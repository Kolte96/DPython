{
 "cells": [
  {
   "cell_type": "code",
   "execution_count": null,
   "id": "22195d67",
   "metadata": {},
   "outputs": [],
   "source": [
    "#Assigment\n",
    "#Referral ID:DIRSS3134\n",
    "#Name: Gauri Kolte"
   ]
  },
  {
   "cell_type": "code",
   "execution_count": 192,
   "id": "abe622b8",
   "metadata": {},
   "outputs": [],
   "source": [
    "import pandas as pd \n",
    "import numpy as np"
   ]
  },
  {
   "cell_type": "code",
   "execution_count": 132,
   "id": "461d3369",
   "metadata": {},
   "outputs": [],
   "source": [
    "import matplotlib.pyplot as plt\n",
    "import seaborn as sns"
   ]
  },
  {
   "cell_type": "code",
   "execution_count": 133,
   "id": "1149ec8d",
   "metadata": {},
   "outputs": [],
   "source": [
    "df=pd.read_csv(\"creditcard.csv\")"
   ]
  },
  {
   "cell_type": "code",
   "execution_count": 134,
   "id": "cfc764c0",
   "metadata": {},
   "outputs": [
    {
     "data": {
      "text/html": [
       "<div>\n",
       "<style scoped>\n",
       "    .dataframe tbody tr th:only-of-type {\n",
       "        vertical-align: middle;\n",
       "    }\n",
       "\n",
       "    .dataframe tbody tr th {\n",
       "        vertical-align: top;\n",
       "    }\n",
       "\n",
       "    .dataframe thead th {\n",
       "        text-align: right;\n",
       "    }\n",
       "</style>\n",
       "<table border=\"1\" class=\"dataframe\">\n",
       "  <thead>\n",
       "    <tr style=\"text-align: right;\">\n",
       "      <th></th>\n",
       "      <th>Time</th>\n",
       "      <th>V1</th>\n",
       "      <th>V2</th>\n",
       "      <th>V3</th>\n",
       "      <th>V4</th>\n",
       "      <th>V5</th>\n",
       "      <th>V6</th>\n",
       "      <th>V7</th>\n",
       "      <th>V8</th>\n",
       "      <th>V9</th>\n",
       "      <th>...</th>\n",
       "      <th>V21</th>\n",
       "      <th>V22</th>\n",
       "      <th>V23</th>\n",
       "      <th>V24</th>\n",
       "      <th>V25</th>\n",
       "      <th>V26</th>\n",
       "      <th>V27</th>\n",
       "      <th>V28</th>\n",
       "      <th>Amount</th>\n",
       "      <th>Class</th>\n",
       "    </tr>\n",
       "  </thead>\n",
       "  <tbody>\n",
       "    <tr>\n",
       "      <th>0</th>\n",
       "      <td>0.0</td>\n",
       "      <td>-1.359807</td>\n",
       "      <td>-0.072781</td>\n",
       "      <td>2.536347</td>\n",
       "      <td>1.378155</td>\n",
       "      <td>-0.338321</td>\n",
       "      <td>0.462388</td>\n",
       "      <td>0.239599</td>\n",
       "      <td>0.098698</td>\n",
       "      <td>0.363787</td>\n",
       "      <td>...</td>\n",
       "      <td>-0.018307</td>\n",
       "      <td>0.277838</td>\n",
       "      <td>-0.110474</td>\n",
       "      <td>0.066928</td>\n",
       "      <td>0.128539</td>\n",
       "      <td>-0.189115</td>\n",
       "      <td>0.133558</td>\n",
       "      <td>-0.021053</td>\n",
       "      <td>149.62</td>\n",
       "      <td>0.0</td>\n",
       "    </tr>\n",
       "    <tr>\n",
       "      <th>1</th>\n",
       "      <td>0.0</td>\n",
       "      <td>1.191857</td>\n",
       "      <td>0.266151</td>\n",
       "      <td>0.166480</td>\n",
       "      <td>0.448154</td>\n",
       "      <td>0.060018</td>\n",
       "      <td>-0.082361</td>\n",
       "      <td>-0.078803</td>\n",
       "      <td>0.085102</td>\n",
       "      <td>-0.255425</td>\n",
       "      <td>...</td>\n",
       "      <td>-0.225775</td>\n",
       "      <td>-0.638672</td>\n",
       "      <td>0.101288</td>\n",
       "      <td>-0.339846</td>\n",
       "      <td>0.167170</td>\n",
       "      <td>0.125895</td>\n",
       "      <td>-0.008983</td>\n",
       "      <td>0.014724</td>\n",
       "      <td>2.69</td>\n",
       "      <td>0.0</td>\n",
       "    </tr>\n",
       "    <tr>\n",
       "      <th>2</th>\n",
       "      <td>1.0</td>\n",
       "      <td>-1.358354</td>\n",
       "      <td>-1.340163</td>\n",
       "      <td>1.773209</td>\n",
       "      <td>0.379780</td>\n",
       "      <td>-0.503198</td>\n",
       "      <td>1.800499</td>\n",
       "      <td>0.791461</td>\n",
       "      <td>0.247676</td>\n",
       "      <td>-1.514654</td>\n",
       "      <td>...</td>\n",
       "      <td>0.247998</td>\n",
       "      <td>0.771679</td>\n",
       "      <td>0.909412</td>\n",
       "      <td>-0.689281</td>\n",
       "      <td>-0.327642</td>\n",
       "      <td>-0.139097</td>\n",
       "      <td>-0.055353</td>\n",
       "      <td>-0.059752</td>\n",
       "      <td>378.66</td>\n",
       "      <td>0.0</td>\n",
       "    </tr>\n",
       "    <tr>\n",
       "      <th>3</th>\n",
       "      <td>1.0</td>\n",
       "      <td>-0.966272</td>\n",
       "      <td>-0.185226</td>\n",
       "      <td>1.792993</td>\n",
       "      <td>-0.863291</td>\n",
       "      <td>-0.010309</td>\n",
       "      <td>1.247203</td>\n",
       "      <td>0.237609</td>\n",
       "      <td>0.377436</td>\n",
       "      <td>-1.387024</td>\n",
       "      <td>...</td>\n",
       "      <td>-0.108300</td>\n",
       "      <td>0.005274</td>\n",
       "      <td>-0.190321</td>\n",
       "      <td>-1.175575</td>\n",
       "      <td>0.647376</td>\n",
       "      <td>-0.221929</td>\n",
       "      <td>0.062723</td>\n",
       "      <td>0.061458</td>\n",
       "      <td>123.50</td>\n",
       "      <td>0.0</td>\n",
       "    </tr>\n",
       "    <tr>\n",
       "      <th>4</th>\n",
       "      <td>2.0</td>\n",
       "      <td>-1.158233</td>\n",
       "      <td>0.877737</td>\n",
       "      <td>1.548718</td>\n",
       "      <td>0.403034</td>\n",
       "      <td>-0.407193</td>\n",
       "      <td>0.095921</td>\n",
       "      <td>0.592941</td>\n",
       "      <td>-0.270533</td>\n",
       "      <td>0.817739</td>\n",
       "      <td>...</td>\n",
       "      <td>-0.009431</td>\n",
       "      <td>0.798278</td>\n",
       "      <td>-0.137458</td>\n",
       "      <td>0.141267</td>\n",
       "      <td>-0.206010</td>\n",
       "      <td>0.502292</td>\n",
       "      <td>0.219422</td>\n",
       "      <td>0.215153</td>\n",
       "      <td>69.99</td>\n",
       "      <td>0.0</td>\n",
       "    </tr>\n",
       "  </tbody>\n",
       "</table>\n",
       "<p>5 rows × 31 columns</p>\n",
       "</div>"
      ],
      "text/plain": [
       "   Time        V1        V2        V3        V4        V5        V6        V7  \\\n",
       "0   0.0 -1.359807 -0.072781  2.536347  1.378155 -0.338321  0.462388  0.239599   \n",
       "1   0.0  1.191857  0.266151  0.166480  0.448154  0.060018 -0.082361 -0.078803   \n",
       "2   1.0 -1.358354 -1.340163  1.773209  0.379780 -0.503198  1.800499  0.791461   \n",
       "3   1.0 -0.966272 -0.185226  1.792993 -0.863291 -0.010309  1.247203  0.237609   \n",
       "4   2.0 -1.158233  0.877737  1.548718  0.403034 -0.407193  0.095921  0.592941   \n",
       "\n",
       "         V8        V9  ...       V21       V22       V23       V24       V25  \\\n",
       "0  0.098698  0.363787  ... -0.018307  0.277838 -0.110474  0.066928  0.128539   \n",
       "1  0.085102 -0.255425  ... -0.225775 -0.638672  0.101288 -0.339846  0.167170   \n",
       "2  0.247676 -1.514654  ...  0.247998  0.771679  0.909412 -0.689281 -0.327642   \n",
       "3  0.377436 -1.387024  ... -0.108300  0.005274 -0.190321 -1.175575  0.647376   \n",
       "4 -0.270533  0.817739  ... -0.009431  0.798278 -0.137458  0.141267 -0.206010   \n",
       "\n",
       "        V26       V27       V28  Amount  Class  \n",
       "0 -0.189115  0.133558 -0.021053  149.62    0.0  \n",
       "1  0.125895 -0.008983  0.014724    2.69    0.0  \n",
       "2 -0.139097 -0.055353 -0.059752  378.66    0.0  \n",
       "3 -0.221929  0.062723  0.061458  123.50    0.0  \n",
       "4  0.502292  0.219422  0.215153   69.99    0.0  \n",
       "\n",
       "[5 rows x 31 columns]"
      ]
     },
     "execution_count": 134,
     "metadata": {},
     "output_type": "execute_result"
    }
   ],
   "source": [
    "df.head()"
   ]
  },
  {
   "cell_type": "code",
   "execution_count": 135,
   "id": "d50afa46",
   "metadata": {},
   "outputs": [
    {
     "data": {
      "text/plain": [
       "Time      106195\n",
       "V1        234539\n",
       "V2        234539\n",
       "V3        234539\n",
       "V4        234538\n",
       "V5        234538\n",
       "V6        234538\n",
       "V7        234538\n",
       "V8        234538\n",
       "V9        234538\n",
       "V10       234538\n",
       "V11       234538\n",
       "V12       234538\n",
       "V13       234538\n",
       "V14       234538\n",
       "V15       234538\n",
       "V16       234538\n",
       "V17       234538\n",
       "V18       234538\n",
       "V19       234538\n",
       "V20       234538\n",
       "V21       234538\n",
       "V22       234538\n",
       "V23       234538\n",
       "V24       234538\n",
       "V25       234538\n",
       "V26       234538\n",
       "V27       234538\n",
       "V28       234538\n",
       "Amount     30768\n",
       "Class          2\n",
       "dtype: int64"
      ]
     },
     "execution_count": 135,
     "metadata": {},
     "output_type": "execute_result"
    }
   ],
   "source": [
    "df.nunique()"
   ]
  },
  {
   "cell_type": "code",
   "execution_count": 136,
   "id": "83a668d8",
   "metadata": {},
   "outputs": [
    {
     "data": {
      "text/plain": [
       "(241727, 31)"
      ]
     },
     "execution_count": 136,
     "metadata": {},
     "output_type": "execute_result"
    }
   ],
   "source": [
    "df.shape"
   ]
  },
  {
   "cell_type": "code",
   "execution_count": 137,
   "id": "603b69d4",
   "metadata": {},
   "outputs": [
    {
     "data": {
      "text/plain": [
       "Index(['Time', 'V1', 'V2', 'V3', 'V4', 'V5', 'V6', 'V7', 'V8', 'V9', 'V10',\n",
       "       'V11', 'V12', 'V13', 'V14', 'V15', 'V16', 'V17', 'V18', 'V19', 'V20',\n",
       "       'V21', 'V22', 'V23', 'V24', 'V25', 'V26', 'V27', 'V28', 'Amount',\n",
       "       'Class'],\n",
       "      dtype='object')"
      ]
     },
     "execution_count": 137,
     "metadata": {},
     "output_type": "execute_result"
    }
   ],
   "source": [
    "df.columns"
   ]
  },
  {
   "cell_type": "code",
   "execution_count": 138,
   "id": "772dc246",
   "metadata": {},
   "outputs": [
    {
     "data": {
      "text/plain": [
       "array([ 0.,  1., nan])"
      ]
     },
     "execution_count": 138,
     "metadata": {},
     "output_type": "execute_result"
    }
   ],
   "source": [
    "df.Class.unique()"
   ]
  },
  {
   "cell_type": "code",
   "execution_count": 139,
   "id": "140be7c7",
   "metadata": {},
   "outputs": [
    {
     "data": {
      "text/plain": [
       "898"
      ]
     },
     "execution_count": 139,
     "metadata": {},
     "output_type": "execute_result"
    }
   ],
   "source": [
    "df.duplicated().sum()"
   ]
  },
  {
   "cell_type": "code",
   "execution_count": 140,
   "id": "fa75018e",
   "metadata": {},
   "outputs": [],
   "source": [
    "df.drop_duplicates(inplace =True)"
   ]
  },
  {
   "cell_type": "code",
   "execution_count": 141,
   "id": "5a7a1ee2",
   "metadata": {},
   "outputs": [
    {
     "data": {
      "text/plain": [
       "0"
      ]
     },
     "execution_count": 141,
     "metadata": {},
     "output_type": "execute_result"
    }
   ],
   "source": [
    "df.duplicated().sum()"
   ]
  },
  {
   "cell_type": "code",
   "execution_count": 142,
   "id": "3121a953",
   "metadata": {},
   "outputs": [
    {
     "data": {
      "text/html": [
       "<div>\n",
       "<style scoped>\n",
       "    .dataframe tbody tr th:only-of-type {\n",
       "        vertical-align: middle;\n",
       "    }\n",
       "\n",
       "    .dataframe tbody tr th {\n",
       "        vertical-align: top;\n",
       "    }\n",
       "\n",
       "    .dataframe thead th {\n",
       "        text-align: right;\n",
       "    }\n",
       "</style>\n",
       "<table border=\"1\" class=\"dataframe\">\n",
       "  <thead>\n",
       "    <tr style=\"text-align: right;\">\n",
       "      <th></th>\n",
       "      <th>Time</th>\n",
       "      <th>V1</th>\n",
       "      <th>V2</th>\n",
       "      <th>V3</th>\n",
       "      <th>V4</th>\n",
       "      <th>V5</th>\n",
       "      <th>V6</th>\n",
       "      <th>V7</th>\n",
       "      <th>V8</th>\n",
       "      <th>V9</th>\n",
       "      <th>...</th>\n",
       "      <th>V21</th>\n",
       "      <th>V22</th>\n",
       "      <th>V23</th>\n",
       "      <th>V24</th>\n",
       "      <th>V25</th>\n",
       "      <th>V26</th>\n",
       "      <th>V27</th>\n",
       "      <th>V28</th>\n",
       "      <th>Amount</th>\n",
       "      <th>Class</th>\n",
       "    </tr>\n",
       "  </thead>\n",
       "  <tbody>\n",
       "    <tr>\n",
       "      <th>0</th>\n",
       "      <td>False</td>\n",
       "      <td>False</td>\n",
       "      <td>False</td>\n",
       "      <td>False</td>\n",
       "      <td>False</td>\n",
       "      <td>False</td>\n",
       "      <td>False</td>\n",
       "      <td>False</td>\n",
       "      <td>False</td>\n",
       "      <td>False</td>\n",
       "      <td>...</td>\n",
       "      <td>False</td>\n",
       "      <td>False</td>\n",
       "      <td>False</td>\n",
       "      <td>False</td>\n",
       "      <td>False</td>\n",
       "      <td>False</td>\n",
       "      <td>False</td>\n",
       "      <td>False</td>\n",
       "      <td>False</td>\n",
       "      <td>False</td>\n",
       "    </tr>\n",
       "    <tr>\n",
       "      <th>1</th>\n",
       "      <td>False</td>\n",
       "      <td>False</td>\n",
       "      <td>False</td>\n",
       "      <td>False</td>\n",
       "      <td>False</td>\n",
       "      <td>False</td>\n",
       "      <td>False</td>\n",
       "      <td>False</td>\n",
       "      <td>False</td>\n",
       "      <td>False</td>\n",
       "      <td>...</td>\n",
       "      <td>False</td>\n",
       "      <td>False</td>\n",
       "      <td>False</td>\n",
       "      <td>False</td>\n",
       "      <td>False</td>\n",
       "      <td>False</td>\n",
       "      <td>False</td>\n",
       "      <td>False</td>\n",
       "      <td>False</td>\n",
       "      <td>False</td>\n",
       "    </tr>\n",
       "    <tr>\n",
       "      <th>2</th>\n",
       "      <td>False</td>\n",
       "      <td>False</td>\n",
       "      <td>False</td>\n",
       "      <td>False</td>\n",
       "      <td>False</td>\n",
       "      <td>False</td>\n",
       "      <td>False</td>\n",
       "      <td>False</td>\n",
       "      <td>False</td>\n",
       "      <td>False</td>\n",
       "      <td>...</td>\n",
       "      <td>False</td>\n",
       "      <td>False</td>\n",
       "      <td>False</td>\n",
       "      <td>False</td>\n",
       "      <td>False</td>\n",
       "      <td>False</td>\n",
       "      <td>False</td>\n",
       "      <td>False</td>\n",
       "      <td>False</td>\n",
       "      <td>False</td>\n",
       "    </tr>\n",
       "    <tr>\n",
       "      <th>3</th>\n",
       "      <td>False</td>\n",
       "      <td>False</td>\n",
       "      <td>False</td>\n",
       "      <td>False</td>\n",
       "      <td>False</td>\n",
       "      <td>False</td>\n",
       "      <td>False</td>\n",
       "      <td>False</td>\n",
       "      <td>False</td>\n",
       "      <td>False</td>\n",
       "      <td>...</td>\n",
       "      <td>False</td>\n",
       "      <td>False</td>\n",
       "      <td>False</td>\n",
       "      <td>False</td>\n",
       "      <td>False</td>\n",
       "      <td>False</td>\n",
       "      <td>False</td>\n",
       "      <td>False</td>\n",
       "      <td>False</td>\n",
       "      <td>False</td>\n",
       "    </tr>\n",
       "    <tr>\n",
       "      <th>4</th>\n",
       "      <td>False</td>\n",
       "      <td>False</td>\n",
       "      <td>False</td>\n",
       "      <td>False</td>\n",
       "      <td>False</td>\n",
       "      <td>False</td>\n",
       "      <td>False</td>\n",
       "      <td>False</td>\n",
       "      <td>False</td>\n",
       "      <td>False</td>\n",
       "      <td>...</td>\n",
       "      <td>False</td>\n",
       "      <td>False</td>\n",
       "      <td>False</td>\n",
       "      <td>False</td>\n",
       "      <td>False</td>\n",
       "      <td>False</td>\n",
       "      <td>False</td>\n",
       "      <td>False</td>\n",
       "      <td>False</td>\n",
       "      <td>False</td>\n",
       "    </tr>\n",
       "    <tr>\n",
       "      <th>...</th>\n",
       "      <td>...</td>\n",
       "      <td>...</td>\n",
       "      <td>...</td>\n",
       "      <td>...</td>\n",
       "      <td>...</td>\n",
       "      <td>...</td>\n",
       "      <td>...</td>\n",
       "      <td>...</td>\n",
       "      <td>...</td>\n",
       "      <td>...</td>\n",
       "      <td>...</td>\n",
       "      <td>...</td>\n",
       "      <td>...</td>\n",
       "      <td>...</td>\n",
       "      <td>...</td>\n",
       "      <td>...</td>\n",
       "      <td>...</td>\n",
       "      <td>...</td>\n",
       "      <td>...</td>\n",
       "      <td>...</td>\n",
       "      <td>...</td>\n",
       "    </tr>\n",
       "    <tr>\n",
       "      <th>241722</th>\n",
       "      <td>False</td>\n",
       "      <td>False</td>\n",
       "      <td>False</td>\n",
       "      <td>False</td>\n",
       "      <td>False</td>\n",
       "      <td>False</td>\n",
       "      <td>False</td>\n",
       "      <td>False</td>\n",
       "      <td>False</td>\n",
       "      <td>False</td>\n",
       "      <td>...</td>\n",
       "      <td>False</td>\n",
       "      <td>False</td>\n",
       "      <td>False</td>\n",
       "      <td>False</td>\n",
       "      <td>False</td>\n",
       "      <td>False</td>\n",
       "      <td>False</td>\n",
       "      <td>False</td>\n",
       "      <td>False</td>\n",
       "      <td>False</td>\n",
       "    </tr>\n",
       "    <tr>\n",
       "      <th>241723</th>\n",
       "      <td>False</td>\n",
       "      <td>False</td>\n",
       "      <td>False</td>\n",
       "      <td>False</td>\n",
       "      <td>False</td>\n",
       "      <td>False</td>\n",
       "      <td>False</td>\n",
       "      <td>False</td>\n",
       "      <td>False</td>\n",
       "      <td>False</td>\n",
       "      <td>...</td>\n",
       "      <td>False</td>\n",
       "      <td>False</td>\n",
       "      <td>False</td>\n",
       "      <td>False</td>\n",
       "      <td>False</td>\n",
       "      <td>False</td>\n",
       "      <td>False</td>\n",
       "      <td>False</td>\n",
       "      <td>False</td>\n",
       "      <td>False</td>\n",
       "    </tr>\n",
       "    <tr>\n",
       "      <th>241724</th>\n",
       "      <td>False</td>\n",
       "      <td>False</td>\n",
       "      <td>False</td>\n",
       "      <td>False</td>\n",
       "      <td>False</td>\n",
       "      <td>False</td>\n",
       "      <td>False</td>\n",
       "      <td>False</td>\n",
       "      <td>False</td>\n",
       "      <td>False</td>\n",
       "      <td>...</td>\n",
       "      <td>False</td>\n",
       "      <td>False</td>\n",
       "      <td>False</td>\n",
       "      <td>False</td>\n",
       "      <td>False</td>\n",
       "      <td>False</td>\n",
       "      <td>False</td>\n",
       "      <td>False</td>\n",
       "      <td>False</td>\n",
       "      <td>False</td>\n",
       "    </tr>\n",
       "    <tr>\n",
       "      <th>241725</th>\n",
       "      <td>False</td>\n",
       "      <td>False</td>\n",
       "      <td>False</td>\n",
       "      <td>False</td>\n",
       "      <td>False</td>\n",
       "      <td>False</td>\n",
       "      <td>False</td>\n",
       "      <td>False</td>\n",
       "      <td>False</td>\n",
       "      <td>False</td>\n",
       "      <td>...</td>\n",
       "      <td>False</td>\n",
       "      <td>False</td>\n",
       "      <td>False</td>\n",
       "      <td>False</td>\n",
       "      <td>False</td>\n",
       "      <td>False</td>\n",
       "      <td>False</td>\n",
       "      <td>False</td>\n",
       "      <td>False</td>\n",
       "      <td>False</td>\n",
       "    </tr>\n",
       "    <tr>\n",
       "      <th>241726</th>\n",
       "      <td>False</td>\n",
       "      <td>False</td>\n",
       "      <td>False</td>\n",
       "      <td>False</td>\n",
       "      <td>True</td>\n",
       "      <td>True</td>\n",
       "      <td>True</td>\n",
       "      <td>True</td>\n",
       "      <td>True</td>\n",
       "      <td>True</td>\n",
       "      <td>...</td>\n",
       "      <td>True</td>\n",
       "      <td>True</td>\n",
       "      <td>True</td>\n",
       "      <td>True</td>\n",
       "      <td>True</td>\n",
       "      <td>True</td>\n",
       "      <td>True</td>\n",
       "      <td>True</td>\n",
       "      <td>True</td>\n",
       "      <td>True</td>\n",
       "    </tr>\n",
       "  </tbody>\n",
       "</table>\n",
       "<p>240829 rows × 31 columns</p>\n",
       "</div>"
      ],
      "text/plain": [
       "         Time     V1     V2     V3     V4     V5     V6     V7     V8     V9  \\\n",
       "0       False  False  False  False  False  False  False  False  False  False   \n",
       "1       False  False  False  False  False  False  False  False  False  False   \n",
       "2       False  False  False  False  False  False  False  False  False  False   \n",
       "3       False  False  False  False  False  False  False  False  False  False   \n",
       "4       False  False  False  False  False  False  False  False  False  False   \n",
       "...       ...    ...    ...    ...    ...    ...    ...    ...    ...    ...   \n",
       "241722  False  False  False  False  False  False  False  False  False  False   \n",
       "241723  False  False  False  False  False  False  False  False  False  False   \n",
       "241724  False  False  False  False  False  False  False  False  False  False   \n",
       "241725  False  False  False  False  False  False  False  False  False  False   \n",
       "241726  False  False  False  False   True   True   True   True   True   True   \n",
       "\n",
       "        ...    V21    V22    V23    V24    V25    V26    V27    V28  Amount  \\\n",
       "0       ...  False  False  False  False  False  False  False  False   False   \n",
       "1       ...  False  False  False  False  False  False  False  False   False   \n",
       "2       ...  False  False  False  False  False  False  False  False   False   \n",
       "3       ...  False  False  False  False  False  False  False  False   False   \n",
       "4       ...  False  False  False  False  False  False  False  False   False   \n",
       "...     ...    ...    ...    ...    ...    ...    ...    ...    ...     ...   \n",
       "241722  ...  False  False  False  False  False  False  False  False   False   \n",
       "241723  ...  False  False  False  False  False  False  False  False   False   \n",
       "241724  ...  False  False  False  False  False  False  False  False   False   \n",
       "241725  ...  False  False  False  False  False  False  False  False   False   \n",
       "241726  ...   True   True   True   True   True   True   True   True    True   \n",
       "\n",
       "        Class  \n",
       "0       False  \n",
       "1       False  \n",
       "2       False  \n",
       "3       False  \n",
       "4       False  \n",
       "...       ...  \n",
       "241722  False  \n",
       "241723  False  \n",
       "241724  False  \n",
       "241725  False  \n",
       "241726   True  \n",
       "\n",
       "[240829 rows x 31 columns]"
      ]
     },
     "execution_count": 142,
     "metadata": {},
     "output_type": "execute_result"
    }
   ],
   "source": [
    "df.isnull()"
   ]
  },
  {
   "cell_type": "code",
   "execution_count": 143,
   "id": "16cd120e",
   "metadata": {},
   "outputs": [
    {
     "data": {
      "text/plain": [
       "Time      0\n",
       "V1        0\n",
       "V2        0\n",
       "V3        0\n",
       "V4        1\n",
       "V5        1\n",
       "V6        1\n",
       "V7        1\n",
       "V8        1\n",
       "V9        1\n",
       "V10       1\n",
       "V11       1\n",
       "V12       1\n",
       "V13       1\n",
       "V14       1\n",
       "V15       1\n",
       "V16       1\n",
       "V17       1\n",
       "V18       1\n",
       "V19       1\n",
       "V20       1\n",
       "V21       1\n",
       "V22       1\n",
       "V23       1\n",
       "V24       1\n",
       "V25       1\n",
       "V26       1\n",
       "V27       1\n",
       "V28       1\n",
       "Amount    1\n",
       "Class     1\n",
       "dtype: int64"
      ]
     },
     "execution_count": 143,
     "metadata": {},
     "output_type": "execute_result"
    }
   ],
   "source": [
    "df.isnull().sum()"
   ]
  },
  {
   "cell_type": "code",
   "execution_count": 144,
   "id": "425d9985",
   "metadata": {},
   "outputs": [],
   "source": [
    "df.dropna(inplace=True)"
   ]
  },
  {
   "cell_type": "code",
   "execution_count": 145,
   "id": "dbea7229",
   "metadata": {},
   "outputs": [
    {
     "data": {
      "text/html": [
       "<div>\n",
       "<style scoped>\n",
       "    .dataframe tbody tr th:only-of-type {\n",
       "        vertical-align: middle;\n",
       "    }\n",
       "\n",
       "    .dataframe tbody tr th {\n",
       "        vertical-align: top;\n",
       "    }\n",
       "\n",
       "    .dataframe thead th {\n",
       "        text-align: right;\n",
       "    }\n",
       "</style>\n",
       "<table border=\"1\" class=\"dataframe\">\n",
       "  <thead>\n",
       "    <tr style=\"text-align: right;\">\n",
       "      <th></th>\n",
       "      <th>Time</th>\n",
       "      <th>V1</th>\n",
       "      <th>V2</th>\n",
       "      <th>V3</th>\n",
       "      <th>V4</th>\n",
       "      <th>V5</th>\n",
       "      <th>V6</th>\n",
       "      <th>V7</th>\n",
       "      <th>V8</th>\n",
       "      <th>V9</th>\n",
       "      <th>...</th>\n",
       "      <th>V21</th>\n",
       "      <th>V22</th>\n",
       "      <th>V23</th>\n",
       "      <th>V24</th>\n",
       "      <th>V25</th>\n",
       "      <th>V26</th>\n",
       "      <th>V27</th>\n",
       "      <th>V28</th>\n",
       "      <th>Amount</th>\n",
       "      <th>Class</th>\n",
       "    </tr>\n",
       "  </thead>\n",
       "  <tbody>\n",
       "    <tr>\n",
       "      <th>0</th>\n",
       "      <td>0.0</td>\n",
       "      <td>-1.359807</td>\n",
       "      <td>-0.072781</td>\n",
       "      <td>2.536347</td>\n",
       "      <td>1.378155</td>\n",
       "      <td>-0.338321</td>\n",
       "      <td>0.462388</td>\n",
       "      <td>0.239599</td>\n",
       "      <td>0.098698</td>\n",
       "      <td>0.363787</td>\n",
       "      <td>...</td>\n",
       "      <td>-0.018307</td>\n",
       "      <td>0.277838</td>\n",
       "      <td>-0.110474</td>\n",
       "      <td>0.066928</td>\n",
       "      <td>0.128539</td>\n",
       "      <td>-0.189115</td>\n",
       "      <td>0.133558</td>\n",
       "      <td>-0.021053</td>\n",
       "      <td>149.62</td>\n",
       "      <td>0.0</td>\n",
       "    </tr>\n",
       "    <tr>\n",
       "      <th>1</th>\n",
       "      <td>0.0</td>\n",
       "      <td>1.191857</td>\n",
       "      <td>0.266151</td>\n",
       "      <td>0.166480</td>\n",
       "      <td>0.448154</td>\n",
       "      <td>0.060018</td>\n",
       "      <td>-0.082361</td>\n",
       "      <td>-0.078803</td>\n",
       "      <td>0.085102</td>\n",
       "      <td>-0.255425</td>\n",
       "      <td>...</td>\n",
       "      <td>-0.225775</td>\n",
       "      <td>-0.638672</td>\n",
       "      <td>0.101288</td>\n",
       "      <td>-0.339846</td>\n",
       "      <td>0.167170</td>\n",
       "      <td>0.125895</td>\n",
       "      <td>-0.008983</td>\n",
       "      <td>0.014724</td>\n",
       "      <td>2.69</td>\n",
       "      <td>0.0</td>\n",
       "    </tr>\n",
       "    <tr>\n",
       "      <th>2</th>\n",
       "      <td>1.0</td>\n",
       "      <td>-1.358354</td>\n",
       "      <td>-1.340163</td>\n",
       "      <td>1.773209</td>\n",
       "      <td>0.379780</td>\n",
       "      <td>-0.503198</td>\n",
       "      <td>1.800499</td>\n",
       "      <td>0.791461</td>\n",
       "      <td>0.247676</td>\n",
       "      <td>-1.514654</td>\n",
       "      <td>...</td>\n",
       "      <td>0.247998</td>\n",
       "      <td>0.771679</td>\n",
       "      <td>0.909412</td>\n",
       "      <td>-0.689281</td>\n",
       "      <td>-0.327642</td>\n",
       "      <td>-0.139097</td>\n",
       "      <td>-0.055353</td>\n",
       "      <td>-0.059752</td>\n",
       "      <td>378.66</td>\n",
       "      <td>0.0</td>\n",
       "    </tr>\n",
       "    <tr>\n",
       "      <th>3</th>\n",
       "      <td>1.0</td>\n",
       "      <td>-0.966272</td>\n",
       "      <td>-0.185226</td>\n",
       "      <td>1.792993</td>\n",
       "      <td>-0.863291</td>\n",
       "      <td>-0.010309</td>\n",
       "      <td>1.247203</td>\n",
       "      <td>0.237609</td>\n",
       "      <td>0.377436</td>\n",
       "      <td>-1.387024</td>\n",
       "      <td>...</td>\n",
       "      <td>-0.108300</td>\n",
       "      <td>0.005274</td>\n",
       "      <td>-0.190321</td>\n",
       "      <td>-1.175575</td>\n",
       "      <td>0.647376</td>\n",
       "      <td>-0.221929</td>\n",
       "      <td>0.062723</td>\n",
       "      <td>0.061458</td>\n",
       "      <td>123.50</td>\n",
       "      <td>0.0</td>\n",
       "    </tr>\n",
       "    <tr>\n",
       "      <th>4</th>\n",
       "      <td>2.0</td>\n",
       "      <td>-1.158233</td>\n",
       "      <td>0.877737</td>\n",
       "      <td>1.548718</td>\n",
       "      <td>0.403034</td>\n",
       "      <td>-0.407193</td>\n",
       "      <td>0.095921</td>\n",
       "      <td>0.592941</td>\n",
       "      <td>-0.270533</td>\n",
       "      <td>0.817739</td>\n",
       "      <td>...</td>\n",
       "      <td>-0.009431</td>\n",
       "      <td>0.798278</td>\n",
       "      <td>-0.137458</td>\n",
       "      <td>0.141267</td>\n",
       "      <td>-0.206010</td>\n",
       "      <td>0.502292</td>\n",
       "      <td>0.219422</td>\n",
       "      <td>0.215153</td>\n",
       "      <td>69.99</td>\n",
       "      <td>0.0</td>\n",
       "    </tr>\n",
       "    <tr>\n",
       "      <th>...</th>\n",
       "      <td>...</td>\n",
       "      <td>...</td>\n",
       "      <td>...</td>\n",
       "      <td>...</td>\n",
       "      <td>...</td>\n",
       "      <td>...</td>\n",
       "      <td>...</td>\n",
       "      <td>...</td>\n",
       "      <td>...</td>\n",
       "      <td>...</td>\n",
       "      <td>...</td>\n",
       "      <td>...</td>\n",
       "      <td>...</td>\n",
       "      <td>...</td>\n",
       "      <td>...</td>\n",
       "      <td>...</td>\n",
       "      <td>...</td>\n",
       "      <td>...</td>\n",
       "      <td>...</td>\n",
       "      <td>...</td>\n",
       "      <td>...</td>\n",
       "    </tr>\n",
       "    <tr>\n",
       "      <th>241721</th>\n",
       "      <td>151152.0</td>\n",
       "      <td>0.229901</td>\n",
       "      <td>0.825937</td>\n",
       "      <td>-0.722364</td>\n",
       "      <td>-0.332723</td>\n",
       "      <td>0.992207</td>\n",
       "      <td>-0.861193</td>\n",
       "      <td>1.368380</td>\n",
       "      <td>-0.448282</td>\n",
       "      <td>0.232568</td>\n",
       "      <td>...</td>\n",
       "      <td>0.189065</td>\n",
       "      <td>0.870172</td>\n",
       "      <td>-0.197448</td>\n",
       "      <td>-0.796410</td>\n",
       "      <td>-0.239306</td>\n",
       "      <td>-0.123653</td>\n",
       "      <td>0.202731</td>\n",
       "      <td>-0.036199</td>\n",
       "      <td>60.00</td>\n",
       "      <td>0.0</td>\n",
       "    </tr>\n",
       "    <tr>\n",
       "      <th>241722</th>\n",
       "      <td>151153.0</td>\n",
       "      <td>0.028367</td>\n",
       "      <td>0.538805</td>\n",
       "      <td>-1.184406</td>\n",
       "      <td>-1.728126</td>\n",
       "      <td>2.942367</td>\n",
       "      <td>3.394842</td>\n",
       "      <td>0.328880</td>\n",
       "      <td>0.926362</td>\n",
       "      <td>-0.164671</td>\n",
       "      <td>...</td>\n",
       "      <td>-0.265895</td>\n",
       "      <td>-0.716782</td>\n",
       "      <td>0.108252</td>\n",
       "      <td>0.688584</td>\n",
       "      <td>-0.460180</td>\n",
       "      <td>0.161967</td>\n",
       "      <td>0.265345</td>\n",
       "      <td>0.090354</td>\n",
       "      <td>0.99</td>\n",
       "      <td>0.0</td>\n",
       "    </tr>\n",
       "    <tr>\n",
       "      <th>241723</th>\n",
       "      <td>151153.0</td>\n",
       "      <td>-0.553286</td>\n",
       "      <td>0.622121</td>\n",
       "      <td>-0.442064</td>\n",
       "      <td>0.141196</td>\n",
       "      <td>2.330597</td>\n",
       "      <td>4.401028</td>\n",
       "      <td>-0.480173</td>\n",
       "      <td>1.597042</td>\n",
       "      <td>-0.118623</td>\n",
       "      <td>...</td>\n",
       "      <td>-0.356466</td>\n",
       "      <td>-1.050028</td>\n",
       "      <td>0.256338</td>\n",
       "      <td>0.629279</td>\n",
       "      <td>-0.753804</td>\n",
       "      <td>-0.986633</td>\n",
       "      <td>0.158495</td>\n",
       "      <td>0.127046</td>\n",
       "      <td>18.94</td>\n",
       "      <td>0.0</td>\n",
       "    </tr>\n",
       "    <tr>\n",
       "      <th>241724</th>\n",
       "      <td>151154.0</td>\n",
       "      <td>1.979937</td>\n",
       "      <td>-0.337377</td>\n",
       "      <td>-0.300753</td>\n",
       "      <td>0.483155</td>\n",
       "      <td>-0.693847</td>\n",
       "      <td>-0.601278</td>\n",
       "      <td>-0.529144</td>\n",
       "      <td>-0.101979</td>\n",
       "      <td>1.290407</td>\n",
       "      <td>...</td>\n",
       "      <td>0.291378</td>\n",
       "      <td>1.120392</td>\n",
       "      <td>0.073714</td>\n",
       "      <td>0.037266</td>\n",
       "      <td>-0.027587</td>\n",
       "      <td>-0.138217</td>\n",
       "      <td>0.044017</td>\n",
       "      <td>-0.038025</td>\n",
       "      <td>7.50</td>\n",
       "      <td>0.0</td>\n",
       "    </tr>\n",
       "    <tr>\n",
       "      <th>241725</th>\n",
       "      <td>151156.0</td>\n",
       "      <td>-1.152892</td>\n",
       "      <td>-0.405314</td>\n",
       "      <td>0.976957</td>\n",
       "      <td>-1.577256</td>\n",
       "      <td>1.478885</td>\n",
       "      <td>-0.926708</td>\n",
       "      <td>0.401100</td>\n",
       "      <td>-0.437329</td>\n",
       "      <td>-1.561224</td>\n",
       "      <td>...</td>\n",
       "      <td>-0.212390</td>\n",
       "      <td>-0.056191</td>\n",
       "      <td>-0.564683</td>\n",
       "      <td>0.541966</td>\n",
       "      <td>0.793743</td>\n",
       "      <td>0.863019</td>\n",
       "      <td>-0.308523</td>\n",
       "      <td>-0.122032</td>\n",
       "      <td>9.00</td>\n",
       "      <td>0.0</td>\n",
       "    </tr>\n",
       "  </tbody>\n",
       "</table>\n",
       "<p>240828 rows × 31 columns</p>\n",
       "</div>"
      ],
      "text/plain": [
       "            Time        V1        V2        V3        V4        V5        V6  \\\n",
       "0            0.0 -1.359807 -0.072781  2.536347  1.378155 -0.338321  0.462388   \n",
       "1            0.0  1.191857  0.266151  0.166480  0.448154  0.060018 -0.082361   \n",
       "2            1.0 -1.358354 -1.340163  1.773209  0.379780 -0.503198  1.800499   \n",
       "3            1.0 -0.966272 -0.185226  1.792993 -0.863291 -0.010309  1.247203   \n",
       "4            2.0 -1.158233  0.877737  1.548718  0.403034 -0.407193  0.095921   \n",
       "...          ...       ...       ...       ...       ...       ...       ...   \n",
       "241721  151152.0  0.229901  0.825937 -0.722364 -0.332723  0.992207 -0.861193   \n",
       "241722  151153.0  0.028367  0.538805 -1.184406 -1.728126  2.942367  3.394842   \n",
       "241723  151153.0 -0.553286  0.622121 -0.442064  0.141196  2.330597  4.401028   \n",
       "241724  151154.0  1.979937 -0.337377 -0.300753  0.483155 -0.693847 -0.601278   \n",
       "241725  151156.0 -1.152892 -0.405314  0.976957 -1.577256  1.478885 -0.926708   \n",
       "\n",
       "              V7        V8        V9  ...       V21       V22       V23  \\\n",
       "0       0.239599  0.098698  0.363787  ... -0.018307  0.277838 -0.110474   \n",
       "1      -0.078803  0.085102 -0.255425  ... -0.225775 -0.638672  0.101288   \n",
       "2       0.791461  0.247676 -1.514654  ...  0.247998  0.771679  0.909412   \n",
       "3       0.237609  0.377436 -1.387024  ... -0.108300  0.005274 -0.190321   \n",
       "4       0.592941 -0.270533  0.817739  ... -0.009431  0.798278 -0.137458   \n",
       "...          ...       ...       ...  ...       ...       ...       ...   \n",
       "241721  1.368380 -0.448282  0.232568  ...  0.189065  0.870172 -0.197448   \n",
       "241722  0.328880  0.926362 -0.164671  ... -0.265895 -0.716782  0.108252   \n",
       "241723 -0.480173  1.597042 -0.118623  ... -0.356466 -1.050028  0.256338   \n",
       "241724 -0.529144 -0.101979  1.290407  ...  0.291378  1.120392  0.073714   \n",
       "241725  0.401100 -0.437329 -1.561224  ... -0.212390 -0.056191 -0.564683   \n",
       "\n",
       "             V24       V25       V26       V27       V28  Amount  Class  \n",
       "0       0.066928  0.128539 -0.189115  0.133558 -0.021053  149.62    0.0  \n",
       "1      -0.339846  0.167170  0.125895 -0.008983  0.014724    2.69    0.0  \n",
       "2      -0.689281 -0.327642 -0.139097 -0.055353 -0.059752  378.66    0.0  \n",
       "3      -1.175575  0.647376 -0.221929  0.062723  0.061458  123.50    0.0  \n",
       "4       0.141267 -0.206010  0.502292  0.219422  0.215153   69.99    0.0  \n",
       "...          ...       ...       ...       ...       ...     ...    ...  \n",
       "241721 -0.796410 -0.239306 -0.123653  0.202731 -0.036199   60.00    0.0  \n",
       "241722  0.688584 -0.460180  0.161967  0.265345  0.090354    0.99    0.0  \n",
       "241723  0.629279 -0.753804 -0.986633  0.158495  0.127046   18.94    0.0  \n",
       "241724  0.037266 -0.027587 -0.138217  0.044017 -0.038025    7.50    0.0  \n",
       "241725  0.541966  0.793743  0.863019 -0.308523 -0.122032    9.00    0.0  \n",
       "\n",
       "[240828 rows x 31 columns]"
      ]
     },
     "execution_count": 145,
     "metadata": {},
     "output_type": "execute_result"
    }
   ],
   "source": [
    "df"
   ]
  },
  {
   "cell_type": "code",
   "execution_count": null,
   "id": "6982ab4c",
   "metadata": {},
   "outputs": [],
   "source": []
  },
  {
   "cell_type": "code",
   "execution_count": 146,
   "id": "a94492f9",
   "metadata": {},
   "outputs": [],
   "source": [
    "#Small data is taking for further process.\n",
    "dd=df.head(100)"
   ]
  },
  {
   "cell_type": "code",
   "execution_count": 147,
   "id": "41f1502a",
   "metadata": {},
   "outputs": [
    {
     "data": {
      "text/html": [
       "<div>\n",
       "<style scoped>\n",
       "    .dataframe tbody tr th:only-of-type {\n",
       "        vertical-align: middle;\n",
       "    }\n",
       "\n",
       "    .dataframe tbody tr th {\n",
       "        vertical-align: top;\n",
       "    }\n",
       "\n",
       "    .dataframe thead th {\n",
       "        text-align: right;\n",
       "    }\n",
       "</style>\n",
       "<table border=\"1\" class=\"dataframe\">\n",
       "  <thead>\n",
       "    <tr style=\"text-align: right;\">\n",
       "      <th></th>\n",
       "      <th>Time</th>\n",
       "      <th>V1</th>\n",
       "      <th>V2</th>\n",
       "      <th>V3</th>\n",
       "      <th>V4</th>\n",
       "      <th>V5</th>\n",
       "      <th>V6</th>\n",
       "      <th>V7</th>\n",
       "      <th>V8</th>\n",
       "      <th>V9</th>\n",
       "      <th>...</th>\n",
       "      <th>V21</th>\n",
       "      <th>V22</th>\n",
       "      <th>V23</th>\n",
       "      <th>V24</th>\n",
       "      <th>V25</th>\n",
       "      <th>V26</th>\n",
       "      <th>V27</th>\n",
       "      <th>V28</th>\n",
       "      <th>Amount</th>\n",
       "      <th>Class</th>\n",
       "    </tr>\n",
       "  </thead>\n",
       "  <tbody>\n",
       "    <tr>\n",
       "      <th>0</th>\n",
       "      <td>0.0</td>\n",
       "      <td>-1.359807</td>\n",
       "      <td>-0.072781</td>\n",
       "      <td>2.536347</td>\n",
       "      <td>1.378155</td>\n",
       "      <td>-0.338321</td>\n",
       "      <td>0.462388</td>\n",
       "      <td>0.239599</td>\n",
       "      <td>0.098698</td>\n",
       "      <td>0.363787</td>\n",
       "      <td>...</td>\n",
       "      <td>-0.018307</td>\n",
       "      <td>0.277838</td>\n",
       "      <td>-0.110474</td>\n",
       "      <td>0.066928</td>\n",
       "      <td>0.128539</td>\n",
       "      <td>-0.189115</td>\n",
       "      <td>0.133558</td>\n",
       "      <td>-0.021053</td>\n",
       "      <td>149.62</td>\n",
       "      <td>0.0</td>\n",
       "    </tr>\n",
       "    <tr>\n",
       "      <th>1</th>\n",
       "      <td>0.0</td>\n",
       "      <td>1.191857</td>\n",
       "      <td>0.266151</td>\n",
       "      <td>0.166480</td>\n",
       "      <td>0.448154</td>\n",
       "      <td>0.060018</td>\n",
       "      <td>-0.082361</td>\n",
       "      <td>-0.078803</td>\n",
       "      <td>0.085102</td>\n",
       "      <td>-0.255425</td>\n",
       "      <td>...</td>\n",
       "      <td>-0.225775</td>\n",
       "      <td>-0.638672</td>\n",
       "      <td>0.101288</td>\n",
       "      <td>-0.339846</td>\n",
       "      <td>0.167170</td>\n",
       "      <td>0.125895</td>\n",
       "      <td>-0.008983</td>\n",
       "      <td>0.014724</td>\n",
       "      <td>2.69</td>\n",
       "      <td>0.0</td>\n",
       "    </tr>\n",
       "    <tr>\n",
       "      <th>2</th>\n",
       "      <td>1.0</td>\n",
       "      <td>-1.358354</td>\n",
       "      <td>-1.340163</td>\n",
       "      <td>1.773209</td>\n",
       "      <td>0.379780</td>\n",
       "      <td>-0.503198</td>\n",
       "      <td>1.800499</td>\n",
       "      <td>0.791461</td>\n",
       "      <td>0.247676</td>\n",
       "      <td>-1.514654</td>\n",
       "      <td>...</td>\n",
       "      <td>0.247998</td>\n",
       "      <td>0.771679</td>\n",
       "      <td>0.909412</td>\n",
       "      <td>-0.689281</td>\n",
       "      <td>-0.327642</td>\n",
       "      <td>-0.139097</td>\n",
       "      <td>-0.055353</td>\n",
       "      <td>-0.059752</td>\n",
       "      <td>378.66</td>\n",
       "      <td>0.0</td>\n",
       "    </tr>\n",
       "    <tr>\n",
       "      <th>3</th>\n",
       "      <td>1.0</td>\n",
       "      <td>-0.966272</td>\n",
       "      <td>-0.185226</td>\n",
       "      <td>1.792993</td>\n",
       "      <td>-0.863291</td>\n",
       "      <td>-0.010309</td>\n",
       "      <td>1.247203</td>\n",
       "      <td>0.237609</td>\n",
       "      <td>0.377436</td>\n",
       "      <td>-1.387024</td>\n",
       "      <td>...</td>\n",
       "      <td>-0.108300</td>\n",
       "      <td>0.005274</td>\n",
       "      <td>-0.190321</td>\n",
       "      <td>-1.175575</td>\n",
       "      <td>0.647376</td>\n",
       "      <td>-0.221929</td>\n",
       "      <td>0.062723</td>\n",
       "      <td>0.061458</td>\n",
       "      <td>123.50</td>\n",
       "      <td>0.0</td>\n",
       "    </tr>\n",
       "    <tr>\n",
       "      <th>4</th>\n",
       "      <td>2.0</td>\n",
       "      <td>-1.158233</td>\n",
       "      <td>0.877737</td>\n",
       "      <td>1.548718</td>\n",
       "      <td>0.403034</td>\n",
       "      <td>-0.407193</td>\n",
       "      <td>0.095921</td>\n",
       "      <td>0.592941</td>\n",
       "      <td>-0.270533</td>\n",
       "      <td>0.817739</td>\n",
       "      <td>...</td>\n",
       "      <td>-0.009431</td>\n",
       "      <td>0.798278</td>\n",
       "      <td>-0.137458</td>\n",
       "      <td>0.141267</td>\n",
       "      <td>-0.206010</td>\n",
       "      <td>0.502292</td>\n",
       "      <td>0.219422</td>\n",
       "      <td>0.215153</td>\n",
       "      <td>69.99</td>\n",
       "      <td>0.0</td>\n",
       "    </tr>\n",
       "    <tr>\n",
       "      <th>...</th>\n",
       "      <td>...</td>\n",
       "      <td>...</td>\n",
       "      <td>...</td>\n",
       "      <td>...</td>\n",
       "      <td>...</td>\n",
       "      <td>...</td>\n",
       "      <td>...</td>\n",
       "      <td>...</td>\n",
       "      <td>...</td>\n",
       "      <td>...</td>\n",
       "      <td>...</td>\n",
       "      <td>...</td>\n",
       "      <td>...</td>\n",
       "      <td>...</td>\n",
       "      <td>...</td>\n",
       "      <td>...</td>\n",
       "      <td>...</td>\n",
       "      <td>...</td>\n",
       "      <td>...</td>\n",
       "      <td>...</td>\n",
       "      <td>...</td>\n",
       "    </tr>\n",
       "    <tr>\n",
       "      <th>97</th>\n",
       "      <td>67.0</td>\n",
       "      <td>-0.653445</td>\n",
       "      <td>0.160225</td>\n",
       "      <td>1.592256</td>\n",
       "      <td>1.296832</td>\n",
       "      <td>0.997175</td>\n",
       "      <td>-0.343000</td>\n",
       "      <td>0.469937</td>\n",
       "      <td>-0.132470</td>\n",
       "      <td>-0.197794</td>\n",
       "      <td>...</td>\n",
       "      <td>0.038363</td>\n",
       "      <td>0.336449</td>\n",
       "      <td>-0.014883</td>\n",
       "      <td>0.102959</td>\n",
       "      <td>-0.265322</td>\n",
       "      <td>-0.348637</td>\n",
       "      <td>0.011238</td>\n",
       "      <td>-0.049478</td>\n",
       "      <td>19.85</td>\n",
       "      <td>0.0</td>\n",
       "    </tr>\n",
       "    <tr>\n",
       "      <th>98</th>\n",
       "      <td>67.0</td>\n",
       "      <td>-1.494668</td>\n",
       "      <td>0.837241</td>\n",
       "      <td>2.628211</td>\n",
       "      <td>3.145414</td>\n",
       "      <td>-0.609098</td>\n",
       "      <td>0.258495</td>\n",
       "      <td>-0.012189</td>\n",
       "      <td>0.102136</td>\n",
       "      <td>-0.286164</td>\n",
       "      <td>...</td>\n",
       "      <td>-0.140047</td>\n",
       "      <td>0.355044</td>\n",
       "      <td>0.332720</td>\n",
       "      <td>0.718193</td>\n",
       "      <td>-0.219366</td>\n",
       "      <td>0.118927</td>\n",
       "      <td>-0.317486</td>\n",
       "      <td>-0.340783</td>\n",
       "      <td>28.28</td>\n",
       "      <td>0.0</td>\n",
       "    </tr>\n",
       "    <tr>\n",
       "      <th>99</th>\n",
       "      <td>68.0</td>\n",
       "      <td>1.232996</td>\n",
       "      <td>0.189454</td>\n",
       "      <td>0.491040</td>\n",
       "      <td>0.633673</td>\n",
       "      <td>-0.511574</td>\n",
       "      <td>-0.990609</td>\n",
       "      <td>0.066240</td>\n",
       "      <td>-0.196940</td>\n",
       "      <td>0.075921</td>\n",
       "      <td>...</td>\n",
       "      <td>-0.251566</td>\n",
       "      <td>-0.770139</td>\n",
       "      <td>0.125998</td>\n",
       "      <td>0.369627</td>\n",
       "      <td>0.205598</td>\n",
       "      <td>0.094062</td>\n",
       "      <td>-0.033138</td>\n",
       "      <td>0.020990</td>\n",
       "      <td>15.99</td>\n",
       "      <td>0.0</td>\n",
       "    </tr>\n",
       "    <tr>\n",
       "      <th>100</th>\n",
       "      <td>68.0</td>\n",
       "      <td>1.156939</td>\n",
       "      <td>0.037215</td>\n",
       "      <td>0.556799</td>\n",
       "      <td>0.519507</td>\n",
       "      <td>-0.479754</td>\n",
       "      <td>-0.352714</td>\n",
       "      <td>-0.222487</td>\n",
       "      <td>0.158242</td>\n",
       "      <td>0.011252</td>\n",
       "      <td>...</td>\n",
       "      <td>-0.182662</td>\n",
       "      <td>-0.612268</td>\n",
       "      <td>0.197305</td>\n",
       "      <td>0.174883</td>\n",
       "      <td>0.032497</td>\n",
       "      <td>0.099480</td>\n",
       "      <td>-0.026816</td>\n",
       "      <td>0.004199</td>\n",
       "      <td>2.69</td>\n",
       "      <td>0.0</td>\n",
       "    </tr>\n",
       "    <tr>\n",
       "      <th>101</th>\n",
       "      <td>68.0</td>\n",
       "      <td>-0.770196</td>\n",
       "      <td>0.483572</td>\n",
       "      <td>1.901072</td>\n",
       "      <td>-0.001876</td>\n",
       "      <td>0.024245</td>\n",
       "      <td>-1.171903</td>\n",
       "      <td>0.666483</td>\n",
       "      <td>-0.094603</td>\n",
       "      <td>-0.136666</td>\n",
       "      <td>...</td>\n",
       "      <td>-0.057336</td>\n",
       "      <td>-0.155801</td>\n",
       "      <td>0.018108</td>\n",
       "      <td>0.941555</td>\n",
       "      <td>-0.168582</td>\n",
       "      <td>0.056171</td>\n",
       "      <td>0.058979</td>\n",
       "      <td>0.134188</td>\n",
       "      <td>22.36</td>\n",
       "      <td>0.0</td>\n",
       "    </tr>\n",
       "  </tbody>\n",
       "</table>\n",
       "<p>100 rows × 31 columns</p>\n",
       "</div>"
      ],
      "text/plain": [
       "     Time        V1        V2        V3        V4        V5        V6  \\\n",
       "0     0.0 -1.359807 -0.072781  2.536347  1.378155 -0.338321  0.462388   \n",
       "1     0.0  1.191857  0.266151  0.166480  0.448154  0.060018 -0.082361   \n",
       "2     1.0 -1.358354 -1.340163  1.773209  0.379780 -0.503198  1.800499   \n",
       "3     1.0 -0.966272 -0.185226  1.792993 -0.863291 -0.010309  1.247203   \n",
       "4     2.0 -1.158233  0.877737  1.548718  0.403034 -0.407193  0.095921   \n",
       "..    ...       ...       ...       ...       ...       ...       ...   \n",
       "97   67.0 -0.653445  0.160225  1.592256  1.296832  0.997175 -0.343000   \n",
       "98   67.0 -1.494668  0.837241  2.628211  3.145414 -0.609098  0.258495   \n",
       "99   68.0  1.232996  0.189454  0.491040  0.633673 -0.511574 -0.990609   \n",
       "100  68.0  1.156939  0.037215  0.556799  0.519507 -0.479754 -0.352714   \n",
       "101  68.0 -0.770196  0.483572  1.901072 -0.001876  0.024245 -1.171903   \n",
       "\n",
       "           V7        V8        V9  ...       V21       V22       V23  \\\n",
       "0    0.239599  0.098698  0.363787  ... -0.018307  0.277838 -0.110474   \n",
       "1   -0.078803  0.085102 -0.255425  ... -0.225775 -0.638672  0.101288   \n",
       "2    0.791461  0.247676 -1.514654  ...  0.247998  0.771679  0.909412   \n",
       "3    0.237609  0.377436 -1.387024  ... -0.108300  0.005274 -0.190321   \n",
       "4    0.592941 -0.270533  0.817739  ... -0.009431  0.798278 -0.137458   \n",
       "..        ...       ...       ...  ...       ...       ...       ...   \n",
       "97   0.469937 -0.132470 -0.197794  ...  0.038363  0.336449 -0.014883   \n",
       "98  -0.012189  0.102136 -0.286164  ... -0.140047  0.355044  0.332720   \n",
       "99   0.066240 -0.196940  0.075921  ... -0.251566 -0.770139  0.125998   \n",
       "100 -0.222487  0.158242  0.011252  ... -0.182662 -0.612268  0.197305   \n",
       "101  0.666483 -0.094603 -0.136666  ... -0.057336 -0.155801  0.018108   \n",
       "\n",
       "          V24       V25       V26       V27       V28  Amount  Class  \n",
       "0    0.066928  0.128539 -0.189115  0.133558 -0.021053  149.62    0.0  \n",
       "1   -0.339846  0.167170  0.125895 -0.008983  0.014724    2.69    0.0  \n",
       "2   -0.689281 -0.327642 -0.139097 -0.055353 -0.059752  378.66    0.0  \n",
       "3   -1.175575  0.647376 -0.221929  0.062723  0.061458  123.50    0.0  \n",
       "4    0.141267 -0.206010  0.502292  0.219422  0.215153   69.99    0.0  \n",
       "..        ...       ...       ...       ...       ...     ...    ...  \n",
       "97   0.102959 -0.265322 -0.348637  0.011238 -0.049478   19.85    0.0  \n",
       "98   0.718193 -0.219366  0.118927 -0.317486 -0.340783   28.28    0.0  \n",
       "99   0.369627  0.205598  0.094062 -0.033138  0.020990   15.99    0.0  \n",
       "100  0.174883  0.032497  0.099480 -0.026816  0.004199    2.69    0.0  \n",
       "101  0.941555 -0.168582  0.056171  0.058979  0.134188   22.36    0.0  \n",
       "\n",
       "[100 rows x 31 columns]"
      ]
     },
     "execution_count": 147,
     "metadata": {},
     "output_type": "execute_result"
    }
   ],
   "source": [
    "dd"
   ]
  },
  {
   "cell_type": "code",
   "execution_count": 148,
   "id": "c49693a1",
   "metadata": {},
   "outputs": [
    {
     "data": {
      "text/plain": [
       "<AxesSubplot:xlabel='Time', ylabel='V1'>"
      ]
     },
     "execution_count": 148,
     "metadata": {},
     "output_type": "execute_result"
    },
    {
     "data": {
      "image/png": "[encoded data removed]",
      "text/plain": [
       "<Figure size 432x288 with 1 Axes>"
      ]
     },
     "metadata": {
      "needs_background": "light"
     },
     "output_type": "display_data"
    }
   ],
   "source": [
    "#sns.plot\n",
    "sns.barplot(x=\"Time\",y=\"V1\",data=dd)"
   ]
  },
  {
   "cell_type": "code",
   "execution_count": 149,
   "id": "1bdc1221",
   "metadata": {},
   "outputs": [
    {
     "data": {
      "text/plain": [
       "<AxesSubplot:xlabel='V1', ylabel='Amount'>"
      ]
     },
     "execution_count": 149,
     "metadata": {},
     "output_type": "execute_result"
    },
    {
     "data": {
      "image/png": "[encoded data removed]",
      "text/plain": [
       "<Figure size 432x288 with 1 Axes>"
      ]
     },
     "metadata": {
      "needs_background": "light"
     },
     "output_type": "display_data"
    }
   ],
   "source": [
    "sns.lineplot(x=\"V1\",y=\"Amount\",data=dd)"
   ]
  },
  {
   "cell_type": "code",
   "execution_count": 150,
   "id": "aaa2ad47",
   "metadata": {},
   "outputs": [
    {
     "data": {
      "text/plain": [
       "<AxesSubplot:xlabel='V2', ylabel='Amount'>"
      ]
     },
     "execution_count": 150,
     "metadata": {},
     "output_type": "execute_result"
    },
    {
     "data": {
      "image/png": "[encoded data removed]",
      "text/plain": [
       "<Figure size 432x288 with 1 Axes>"
      ]
     },
     "metadata": {
      "needs_background": "light"
     },
     "output_type": "display_data"
    }
   ],
   "source": [
    "sns.lineplot(x=\"V2\",y=\"Amount\",data=dd)"
   ]
  },
  {
   "cell_type": "code",
   "execution_count": 151,
   "id": "d1916aa8",
   "metadata": {},
   "outputs": [
    {
     "data": {
      "text/plain": [
       "<AxesSubplot:xlabel='V1', ylabel='Class'>"
      ]
     },
     "execution_count": 151,
     "metadata": {},
     "output_type": "execute_result"
    },
    {
     "data": {
      "image/png": "[encoded data removed]",
      "text/plain": [
       "<Figure size 432x288 with 1 Axes>"
      ]
     },
     "metadata": {
      "needs_background": "light"
     },
     "output_type": "display_data"
    }
   ],
   "source": [
    "sns.lineplot(x=\"V1\",y=\"Class\",data=dd)"
   ]
  },
  {
   "cell_type": "code",
   "execution_count": 152,
   "id": "9df2c1c4",
   "metadata": {},
   "outputs": [
    {
     "data": {
      "text/plain": [
       "<AxesSubplot:xlabel='V28', ylabel='Amount'>"
      ]
     },
     "execution_count": 152,
     "metadata": {},
     "output_type": "execute_result"
    },
    {
     "data": {
      "image/png": "[encoded data removed]",
      "text/plain": [
       "<Figure size 432x288 with 1 Axes>"
      ]
     },
     "metadata": {
      "needs_background": "light"
     },
     "output_type": "display_data"
    }
   ],
   "source": [
    "sns.lineplot(x=\"V28\",y=\"Amount\",data=dd)"
   ]
  },
  {
   "cell_type": "code",
   "execution_count": 153,
   "id": "e3f0012b",
   "metadata": {},
   "outputs": [
    {
     "data": {
      "text/plain": [
       "<AxesSubplot:xlabel='V27', ylabel='Amount'>"
      ]
     },
     "execution_count": 153,
     "metadata": {},
     "output_type": "execute_result"
    },
    {
     "data": {
      "image/png": "[encoded data removed]",
      "text/plain": [
       "<Figure size 432x288 with 1 Axes>"
      ]
     },
     "metadata": {
      "needs_background": "light"
     },
     "output_type": "display_data"
    }
   ],
   "source": [
    "sns.lineplot(x=\"V27\",y=\"Amount\",data=dd)"
   ]
  },
  {
   "cell_type": "code",
   "execution_count": 154,
   "id": "99c0ad37",
   "metadata": {},
   "outputs": [
    {
     "data": {
      "text/plain": [
       "<AxesSubplot:xlabel='V19', ylabel='Amount'>"
      ]
     },
     "execution_count": 154,
     "metadata": {},
     "output_type": "execute_result"
    },
    {
     "data": {
      "image/png": "[encoded data removed]",
      "text/plain": [
       "<Figure size 432x288 with 1 Axes>"
      ]
     },
     "metadata": {
      "needs_background": "light"
     },
     "output_type": "display_data"
    }
   ],
   "source": [
    "sns.lineplot(x=\"V19\",y=\"Amount\",data=dd)"
   ]
  },
  {
   "cell_type": "code",
   "execution_count": 155,
   "id": "79b07ecc",
   "metadata": {},
   "outputs": [
    {
     "data": {
      "text/plain": [
       "<AxesSubplot:xlabel='V24', ylabel='V25'>"
      ]
     },
     "execution_count": 155,
     "metadata": {},
     "output_type": "execute_result"
    },
    {
     "data": {
      "image/png": "[encoded data removed]",
      "text/plain": [
       "<Figure size 432x288 with 1 Axes>"
      ]
     },
     "metadata": {
      "needs_background": "light"
     },
     "output_type": "display_data"
    }
   ],
   "source": [
    "sns.lineplot(x=\"V24\",y=\"V25\",data=dd)"
   ]
  },
  {
   "cell_type": "code",
   "execution_count": 156,
   "id": "401c9403",
   "metadata": {},
   "outputs": [
    {
     "data": {
      "text/plain": [
       "<AxesSubplot:xlabel='V17', ylabel='Amount'>"
      ]
     },
     "execution_count": 156,
     "metadata": {},
     "output_type": "execute_result"
    },
    {
     "data": {
      "image/png": "[encoded data removed]",
      "text/plain": [
       "<Figure size 432x288 with 1 Axes>"
      ]
     },
     "metadata": {
      "needs_background": "light"
     },
     "output_type": "display_data"
    }
   ],
   "source": [
    "sns.lineplot(x=\"V17\",y=\"Amount\",data=dd)"
   ]
  },
  {
   "cell_type": "code",
   "execution_count": 157,
   "id": "e368cdfb",
   "metadata": {},
   "outputs": [
    {
     "data": {
      "text/plain": [
       "<AxesSubplot:xlabel='V3', ylabel='Amount'>"
      ]
     },
     "execution_count": 157,
     "metadata": {},
     "output_type": "execute_result"
    },
    {
     "data": {
      "image/png": "[encoded data removed]",
      "text/plain": [
       "<Figure size 432x288 with 1 Axes>"
      ]
     },
     "metadata": {
      "needs_background": "light"
     },
     "output_type": "display_data"
    }
   ],
   "source": [
    "sns.lineplot(x=\"V3\",y=\"Amount\",data=dd)"
   ]
  },
  {
   "cell_type": "code",
   "execution_count": 158,
   "id": "24d98213",
   "metadata": {},
   "outputs": [
    {
     "data": {
      "text/plain": [
       "<AxesSubplot:xlabel='V8', ylabel='Amount'>"
      ]
     },
     "execution_count": 158,
     "metadata": {},
     "output_type": "execute_result"
    },
    {
     "data": {
      "image/png": "[encoded data removed]",
      "text/plain": [
       "<Figure size 432x288 with 1 Axes>"
      ]
     },
     "metadata": {
      "needs_background": "light"
     },
     "output_type": "display_data"
    }
   ],
   "source": [
    "sns.lineplot(x=\"V8\",y=\"Amount\",data=dd)"
   ]
  },
  {
   "cell_type": "code",
   "execution_count": 159,
   "id": "3e7f5cd6",
   "metadata": {},
   "outputs": [
    {
     "data": {
      "text/plain": [
       "<AxesSubplot:xlabel='Time', ylabel='V3'>"
      ]
     },
     "execution_count": 159,
     "metadata": {},
     "output_type": "execute_result"
    },
    {
     "data": {
      "image/png": "[encoded data removed]",
      "text/plain": [
       "<Figure size 432x288 with 1 Axes>"
      ]
     },
     "metadata": {
      "needs_background": "light"
     },
     "output_type": "display_data"
    }
   ],
   "source": [
    "sns.lineplot(x=\"Time\",y=\"V3\",data=dd)"
   ]
  },
  {
   "cell_type": "code",
   "execution_count": 160,
   "id": "1d9b99de",
   "metadata": {},
   "outputs": [
    {
     "data": {
      "text/html": [
       "<div>\n",
       "<style scoped>\n",
       "    .dataframe tbody tr th:only-of-type {\n",
       "        vertical-align: middle;\n",
       "    }\n",
       "\n",
       "    .dataframe tbody tr th {\n",
       "        vertical-align: top;\n",
       "    }\n",
       "\n",
       "    .dataframe thead th {\n",
       "        text-align: right;\n",
       "    }\n",
       "</style>\n",
       "<table border=\"1\" class=\"dataframe\">\n",
       "  <thead>\n",
       "    <tr style=\"text-align: right;\">\n",
       "      <th></th>\n",
       "      <th>Time</th>\n",
       "      <th>V1</th>\n",
       "      <th>V2</th>\n",
       "      <th>V3</th>\n",
       "      <th>V4</th>\n",
       "      <th>V5</th>\n",
       "      <th>V6</th>\n",
       "      <th>V7</th>\n",
       "      <th>V8</th>\n",
       "      <th>V9</th>\n",
       "      <th>...</th>\n",
       "      <th>V21</th>\n",
       "      <th>V22</th>\n",
       "      <th>V23</th>\n",
       "      <th>V24</th>\n",
       "      <th>V25</th>\n",
       "      <th>V26</th>\n",
       "      <th>V27</th>\n",
       "      <th>V28</th>\n",
       "      <th>Amount</th>\n",
       "      <th>Class</th>\n",
       "    </tr>\n",
       "  </thead>\n",
       "  <tbody>\n",
       "    <tr>\n",
       "      <th>0</th>\n",
       "      <td>0.0</td>\n",
       "      <td>-1.359807</td>\n",
       "      <td>-0.072781</td>\n",
       "      <td>2.536347</td>\n",
       "      <td>1.378155</td>\n",
       "      <td>-0.338321</td>\n",
       "      <td>0.462388</td>\n",
       "      <td>0.239599</td>\n",
       "      <td>0.098698</td>\n",
       "      <td>0.363787</td>\n",
       "      <td>...</td>\n",
       "      <td>-0.018307</td>\n",
       "      <td>0.277838</td>\n",
       "      <td>-0.110474</td>\n",
       "      <td>0.066928</td>\n",
       "      <td>0.128539</td>\n",
       "      <td>-0.189115</td>\n",
       "      <td>0.133558</td>\n",
       "      <td>-0.021053</td>\n",
       "      <td>149.62</td>\n",
       "      <td>0.0</td>\n",
       "    </tr>\n",
       "    <tr>\n",
       "      <th>1</th>\n",
       "      <td>0.0</td>\n",
       "      <td>1.191857</td>\n",
       "      <td>0.266151</td>\n",
       "      <td>0.166480</td>\n",
       "      <td>0.448154</td>\n",
       "      <td>0.060018</td>\n",
       "      <td>-0.082361</td>\n",
       "      <td>-0.078803</td>\n",
       "      <td>0.085102</td>\n",
       "      <td>-0.255425</td>\n",
       "      <td>...</td>\n",
       "      <td>-0.225775</td>\n",
       "      <td>-0.638672</td>\n",
       "      <td>0.101288</td>\n",
       "      <td>-0.339846</td>\n",
       "      <td>0.167170</td>\n",
       "      <td>0.125895</td>\n",
       "      <td>-0.008983</td>\n",
       "      <td>0.014724</td>\n",
       "      <td>2.69</td>\n",
       "      <td>0.0</td>\n",
       "    </tr>\n",
       "    <tr>\n",
       "      <th>2</th>\n",
       "      <td>1.0</td>\n",
       "      <td>-1.358354</td>\n",
       "      <td>-1.340163</td>\n",
       "      <td>1.773209</td>\n",
       "      <td>0.379780</td>\n",
       "      <td>-0.503198</td>\n",
       "      <td>1.800499</td>\n",
       "      <td>0.791461</td>\n",
       "      <td>0.247676</td>\n",
       "      <td>-1.514654</td>\n",
       "      <td>...</td>\n",
       "      <td>0.247998</td>\n",
       "      <td>0.771679</td>\n",
       "      <td>0.909412</td>\n",
       "      <td>-0.689281</td>\n",
       "      <td>-0.327642</td>\n",
       "      <td>-0.139097</td>\n",
       "      <td>-0.055353</td>\n",
       "      <td>-0.059752</td>\n",
       "      <td>378.66</td>\n",
       "      <td>0.0</td>\n",
       "    </tr>\n",
       "    <tr>\n",
       "      <th>3</th>\n",
       "      <td>1.0</td>\n",
       "      <td>-0.966272</td>\n",
       "      <td>-0.185226</td>\n",
       "      <td>1.792993</td>\n",
       "      <td>-0.863291</td>\n",
       "      <td>-0.010309</td>\n",
       "      <td>1.247203</td>\n",
       "      <td>0.237609</td>\n",
       "      <td>0.377436</td>\n",
       "      <td>-1.387024</td>\n",
       "      <td>...</td>\n",
       "      <td>-0.108300</td>\n",
       "      <td>0.005274</td>\n",
       "      <td>-0.190321</td>\n",
       "      <td>-1.175575</td>\n",
       "      <td>0.647376</td>\n",
       "      <td>-0.221929</td>\n",
       "      <td>0.062723</td>\n",
       "      <td>0.061458</td>\n",
       "      <td>123.50</td>\n",
       "      <td>0.0</td>\n",
       "    </tr>\n",
       "    <tr>\n",
       "      <th>4</th>\n",
       "      <td>2.0</td>\n",
       "      <td>-1.158233</td>\n",
       "      <td>0.877737</td>\n",
       "      <td>1.548718</td>\n",
       "      <td>0.403034</td>\n",
       "      <td>-0.407193</td>\n",
       "      <td>0.095921</td>\n",
       "      <td>0.592941</td>\n",
       "      <td>-0.270533</td>\n",
       "      <td>0.817739</td>\n",
       "      <td>...</td>\n",
       "      <td>-0.009431</td>\n",
       "      <td>0.798278</td>\n",
       "      <td>-0.137458</td>\n",
       "      <td>0.141267</td>\n",
       "      <td>-0.206010</td>\n",
       "      <td>0.502292</td>\n",
       "      <td>0.219422</td>\n",
       "      <td>0.215153</td>\n",
       "      <td>69.99</td>\n",
       "      <td>0.0</td>\n",
       "    </tr>\n",
       "    <tr>\n",
       "      <th>...</th>\n",
       "      <td>...</td>\n",
       "      <td>...</td>\n",
       "      <td>...</td>\n",
       "      <td>...</td>\n",
       "      <td>...</td>\n",
       "      <td>...</td>\n",
       "      <td>...</td>\n",
       "      <td>...</td>\n",
       "      <td>...</td>\n",
       "      <td>...</td>\n",
       "      <td>...</td>\n",
       "      <td>...</td>\n",
       "      <td>...</td>\n",
       "      <td>...</td>\n",
       "      <td>...</td>\n",
       "      <td>...</td>\n",
       "      <td>...</td>\n",
       "      <td>...</td>\n",
       "      <td>...</td>\n",
       "      <td>...</td>\n",
       "      <td>...</td>\n",
       "    </tr>\n",
       "    <tr>\n",
       "      <th>97</th>\n",
       "      <td>67.0</td>\n",
       "      <td>-0.653445</td>\n",
       "      <td>0.160225</td>\n",
       "      <td>1.592256</td>\n",
       "      <td>1.296832</td>\n",
       "      <td>0.997175</td>\n",
       "      <td>-0.343000</td>\n",
       "      <td>0.469937</td>\n",
       "      <td>-0.132470</td>\n",
       "      <td>-0.197794</td>\n",
       "      <td>...</td>\n",
       "      <td>0.038363</td>\n",
       "      <td>0.336449</td>\n",
       "      <td>-0.014883</td>\n",
       "      <td>0.102959</td>\n",
       "      <td>-0.265322</td>\n",
       "      <td>-0.348637</td>\n",
       "      <td>0.011238</td>\n",
       "      <td>-0.049478</td>\n",
       "      <td>19.85</td>\n",
       "      <td>0.0</td>\n",
       "    </tr>\n",
       "    <tr>\n",
       "      <th>98</th>\n",
       "      <td>67.0</td>\n",
       "      <td>-1.494668</td>\n",
       "      <td>0.837241</td>\n",
       "      <td>2.628211</td>\n",
       "      <td>3.145414</td>\n",
       "      <td>-0.609098</td>\n",
       "      <td>0.258495</td>\n",
       "      <td>-0.012189</td>\n",
       "      <td>0.102136</td>\n",
       "      <td>-0.286164</td>\n",
       "      <td>...</td>\n",
       "      <td>-0.140047</td>\n",
       "      <td>0.355044</td>\n",
       "      <td>0.332720</td>\n",
       "      <td>0.718193</td>\n",
       "      <td>-0.219366</td>\n",
       "      <td>0.118927</td>\n",
       "      <td>-0.317486</td>\n",
       "      <td>-0.340783</td>\n",
       "      <td>28.28</td>\n",
       "      <td>0.0</td>\n",
       "    </tr>\n",
       "    <tr>\n",
       "      <th>99</th>\n",
       "      <td>68.0</td>\n",
       "      <td>1.232996</td>\n",
       "      <td>0.189454</td>\n",
       "      <td>0.491040</td>\n",
       "      <td>0.633673</td>\n",
       "      <td>-0.511574</td>\n",
       "      <td>-0.990609</td>\n",
       "      <td>0.066240</td>\n",
       "      <td>-0.196940</td>\n",
       "      <td>0.075921</td>\n",
       "      <td>...</td>\n",
       "      <td>-0.251566</td>\n",
       "      <td>-0.770139</td>\n",
       "      <td>0.125998</td>\n",
       "      <td>0.369627</td>\n",
       "      <td>0.205598</td>\n",
       "      <td>0.094062</td>\n",
       "      <td>-0.033138</td>\n",
       "      <td>0.020990</td>\n",
       "      <td>15.99</td>\n",
       "      <td>0.0</td>\n",
       "    </tr>\n",
       "    <tr>\n",
       "      <th>100</th>\n",
       "      <td>68.0</td>\n",
       "      <td>1.156939</td>\n",
       "      <td>0.037215</td>\n",
       "      <td>0.556799</td>\n",
       "      <td>0.519507</td>\n",
       "      <td>-0.479754</td>\n",
       "      <td>-0.352714</td>\n",
       "      <td>-0.222487</td>\n",
       "      <td>0.158242</td>\n",
       "      <td>0.011252</td>\n",
       "      <td>...</td>\n",
       "      <td>-0.182662</td>\n",
       "      <td>-0.612268</td>\n",
       "      <td>0.197305</td>\n",
       "      <td>0.174883</td>\n",
       "      <td>0.032497</td>\n",
       "      <td>0.099480</td>\n",
       "      <td>-0.026816</td>\n",
       "      <td>0.004199</td>\n",
       "      <td>2.69</td>\n",
       "      <td>0.0</td>\n",
       "    </tr>\n",
       "    <tr>\n",
       "      <th>101</th>\n",
       "      <td>68.0</td>\n",
       "      <td>-0.770196</td>\n",
       "      <td>0.483572</td>\n",
       "      <td>1.901072</td>\n",
       "      <td>-0.001876</td>\n",
       "      <td>0.024245</td>\n",
       "      <td>-1.171903</td>\n",
       "      <td>0.666483</td>\n",
       "      <td>-0.094603</td>\n",
       "      <td>-0.136666</td>\n",
       "      <td>...</td>\n",
       "      <td>-0.057336</td>\n",
       "      <td>-0.155801</td>\n",
       "      <td>0.018108</td>\n",
       "      <td>0.941555</td>\n",
       "      <td>-0.168582</td>\n",
       "      <td>0.056171</td>\n",
       "      <td>0.058979</td>\n",
       "      <td>0.134188</td>\n",
       "      <td>22.36</td>\n",
       "      <td>0.0</td>\n",
       "    </tr>\n",
       "  </tbody>\n",
       "</table>\n",
       "<p>100 rows × 31 columns</p>\n",
       "</div>"
      ],
      "text/plain": [
       "     Time        V1        V2        V3        V4        V5        V6  \\\n",
       "0     0.0 -1.359807 -0.072781  2.536347  1.378155 -0.338321  0.462388   \n",
       "1     0.0  1.191857  0.266151  0.166480  0.448154  0.060018 -0.082361   \n",
       "2     1.0 -1.358354 -1.340163  1.773209  0.379780 -0.503198  1.800499   \n",
       "3     1.0 -0.966272 -0.185226  1.792993 -0.863291 -0.010309  1.247203   \n",
       "4     2.0 -1.158233  0.877737  1.548718  0.403034 -0.407193  0.095921   \n",
       "..    ...       ...       ...       ...       ...       ...       ...   \n",
       "97   67.0 -0.653445  0.160225  1.592256  1.296832  0.997175 -0.343000   \n",
       "98   67.0 -1.494668  0.837241  2.628211  3.145414 -0.609098  0.258495   \n",
       "99   68.0  1.232996  0.189454  0.491040  0.633673 -0.511574 -0.990609   \n",
       "100  68.0  1.156939  0.037215  0.556799  0.519507 -0.479754 -0.352714   \n",
       "101  68.0 -0.770196  0.483572  1.901072 -0.001876  0.024245 -1.171903   \n",
       "\n",
       "           V7        V8        V9  ...       V21       V22       V23  \\\n",
       "0    0.239599  0.098698  0.363787  ... -0.018307  0.277838 -0.110474   \n",
       "1   -0.078803  0.085102 -0.255425  ... -0.225775 -0.638672  0.101288   \n",
       "2    0.791461  0.247676 -1.514654  ...  0.247998  0.771679  0.909412   \n",
       "3    0.237609  0.377436 -1.387024  ... -0.108300  0.005274 -0.190321   \n",
       "4    0.592941 -0.270533  0.817739  ... -0.009431  0.798278 -0.137458   \n",
       "..        ...       ...       ...  ...       ...       ...       ...   \n",
       "97   0.469937 -0.132470 -0.197794  ...  0.038363  0.336449 -0.014883   \n",
       "98  -0.012189  0.102136 -0.286164  ... -0.140047  0.355044  0.332720   \n",
       "99   0.066240 -0.196940  0.075921  ... -0.251566 -0.770139  0.125998   \n",
       "100 -0.222487  0.158242  0.011252  ... -0.182662 -0.612268  0.197305   \n",
       "101  0.666483 -0.094603 -0.136666  ... -0.057336 -0.155801  0.018108   \n",
       "\n",
       "          V24       V25       V26       V27       V28  Amount  Class  \n",
       "0    0.066928  0.128539 -0.189115  0.133558 -0.021053  149.62    0.0  \n",
       "1   -0.339846  0.167170  0.125895 -0.008983  0.014724    2.69    0.0  \n",
       "2   -0.689281 -0.327642 -0.139097 -0.055353 -0.059752  378.66    0.0  \n",
       "3   -1.175575  0.647376 -0.221929  0.062723  0.061458  123.50    0.0  \n",
       "4    0.141267 -0.206010  0.502292  0.219422  0.215153   69.99    0.0  \n",
       "..        ...       ...       ...       ...       ...     ...    ...  \n",
       "97   0.102959 -0.265322 -0.348637  0.011238 -0.049478   19.85    0.0  \n",
       "98   0.718193 -0.219366  0.118927 -0.317486 -0.340783   28.28    0.0  \n",
       "99   0.369627  0.205598  0.094062 -0.033138  0.020990   15.99    0.0  \n",
       "100  0.174883  0.032497  0.099480 -0.026816  0.004199    2.69    0.0  \n",
       "101  0.941555 -0.168582  0.056171  0.058979  0.134188   22.36    0.0  \n",
       "\n",
       "[100 rows x 31 columns]"
      ]
     },
     "execution_count": 160,
     "metadata": {},
     "output_type": "execute_result"
    }
   ],
   "source": [
    "dd"
   ]
  },
  {
   "cell_type": "code",
   "execution_count": 161,
   "id": "8b6f22de",
   "metadata": {},
   "outputs": [
    {
     "name": "stdout",
     "output_type": "stream",
     "text": [
      "Time  Amount\n",
      "0.0   2.69      1\n",
      "      149.62    1\n",
      "1.0   123.50    1\n",
      "      378.66    1\n",
      "2.0   3.67      1\n",
      "               ..\n",
      "67.0  19.85     1\n",
      "      28.28     1\n",
      "68.0  2.69      1\n",
      "      15.99     1\n",
      "      22.36     1\n",
      "Name: Amount, Length: 100, dtype: int64\n"
     ]
    }
   ],
   "source": [
    "r=dd.groupby(\"Time\")[\"Amount\"].value_counts()\n",
    "print(r)"
   ]
  },
  {
   "cell_type": "code",
   "execution_count": 162,
   "id": "c791d025",
   "metadata": {},
   "outputs": [
    {
     "name": "stdout",
     "output_type": "stream",
     "text": [
      "V2         Amount \n",
      "-5.450148  46.80      1.0\n",
      "-4.429184  200.01     1.0\n",
      "-4.146007  1142.02    1.0\n",
      "-1.474100  89.17      1.0\n",
      "-1.361819  231.71     1.0\n",
      "                     ... \n",
      " 1.418191  20.22      1.0\n",
      " 1.765124  1.80       1.0\n",
      " 1.854604  26.72      1.0\n",
      " 2.198527  2.35       1.0\n",
      " 2.600138  1.46       1.0\n",
      "Name: Amount, Length: 100, dtype: float64\n"
     ]
    }
   ],
   "source": [
    "r=dd.groupby(\"V2\")[\"Amount\"].value_counts(normalize=True)\n",
    "print(r)"
   ]
  },
  {
   "cell_type": "code",
   "execution_count": 163,
   "id": "5311bd3c",
   "metadata": {},
   "outputs": [
    {
     "name": "stdout",
     "output_type": "stream",
     "text": [
      "Time  Amount\n",
      "0.0   2.69      0.500000\n",
      "      149.62    0.500000\n",
      "1.0   123.50    0.500000\n",
      "      378.66    0.500000\n",
      "2.0   3.67      0.500000\n",
      "                  ...   \n",
      "67.0  19.85     0.500000\n",
      "      28.28     0.500000\n",
      "68.0  2.69      0.333333\n",
      "      15.99     0.333333\n",
      "      22.36     0.333333\n",
      "Name: Amount, Length: 100, dtype: float64\n"
     ]
    }
   ],
   "source": [
    "r=dd.groupby(\"Time\")[\"Amount\"].value_counts(normalize=True)\n",
    "print(r)"
   ]
  },
  {
   "cell_type": "code",
   "execution_count": 164,
   "id": "9d7647f8",
   "metadata": {},
   "outputs": [
    {
     "name": "stdout",
     "output_type": "stream",
     "text": [
      "V5         Amount \n",
      "-6.631951  1402.95    1.0\n",
      "-2.069503  96.94      1.0\n",
      "-1.971383  7.80       1.0\n",
      "-1.698307  1142.02    1.0\n",
      "-1.555434  5.00       1.0\n",
      "                     ... \n",
      " 2.941968  0.89       1.0\n",
      " 2.966908  14.80      1.0\n",
      " 3.002224  200.01     1.0\n",
      " 3.049106  46.80      1.0\n",
      " 3.281972  13.84      1.0\n",
      "Name: Amount, Length: 100, dtype: float64\n"
     ]
    }
   ],
   "source": [
    "r=dd.groupby(\"V5\")[\"Amount\"].value_counts(normalize=True)\n",
    "print(r)"
   ]
  },
  {
   "cell_type": "code",
   "execution_count": 165,
   "id": "e0413425",
   "metadata": {},
   "outputs": [
    {
     "name": "stdout",
     "output_type": "stream",
     "text": [
      "V20        Amount \n",
      "-2.196848  46.80      1.0\n",
      "-1.582122  58.80      1.0\n",
      "-0.960963  200.01     1.0\n",
      "-0.769854  89.17      1.0\n",
      "-0.522951  16.00      1.0\n",
      "                     ... \n",
      " 0.408542  69.99      1.0\n",
      " 0.524980  378.66     1.0\n",
      " 0.667847  26.72      1.0\n",
      " 2.442782  1142.02    1.0\n",
      " 2.456724  1.46       1.0\n",
      "Name: Amount, Length: 100, dtype: float64\n"
     ]
    }
   ],
   "source": [
    "r=dd.groupby(\"V20\")[\"Amount\"].value_counts(normalize=True)\n",
    "print(r)"
   ]
  },
  {
   "cell_type": "code",
   "execution_count": 166,
   "id": "8fb9c588",
   "metadata": {},
   "outputs": [
    {
     "name": "stdout",
     "output_type": "stream",
     "text": [
      "V26        Amount\n",
      "-1.243924  89.17     1.0\n",
      "-0.835203  18.95     1.0\n",
      "-0.834490  135.51    1.0\n",
      "-0.621272  46.80     1.0\n",
      "-0.553471  1.77      1.0\n",
      "                    ... \n",
      " 0.754195  9.10      1.0\n",
      " 1.141241  96.94     1.0\n",
      " 1.194928  30.90     1.0\n",
      " 1.196549  29.89     1.0\n",
      " 3.065576  35.00     1.0\n",
      "Name: Amount, Length: 100, dtype: float64\n"
     ]
    }
   ],
   "source": [
    "r=dd.groupby(\"V26\")[\"Amount\"].value_counts(normalize=True)\n",
    "print(r)"
   ]
  },
  {
   "cell_type": "code",
   "execution_count": 167,
   "id": "2b7b3fc0",
   "metadata": {},
   "outputs": [
    {
     "name": "stdout",
     "output_type": "stream",
     "text": [
      "V26        Time\n",
      "-1.243924  53.0    1.0\n",
      "-0.835203  34.0    1.0\n",
      "-0.834490  49.0    1.0\n",
      "-0.621272  14.0    1.0\n",
      "-0.553471  26.0    1.0\n",
      "                  ... \n",
      " 0.754195  33.0    1.0\n",
      " 1.141241  41.0    1.0\n",
      " 1.194928  35.0    1.0\n",
      " 1.196549  32.0    1.0\n",
      " 3.065576  46.0    1.0\n",
      "Name: Time, Length: 100, dtype: float64\n"
     ]
    }
   ],
   "source": [
    "r=dd.groupby(\"V26\")[\"Time\"].value_counts(normalize=True)\n",
    "print(r)"
   ]
  },
  {
   "cell_type": "code",
   "execution_count": 168,
   "id": "d5b53815",
   "metadata": {},
   "outputs": [
    {
     "name": "stdout",
     "output_type": "stream",
     "text": [
      "total class_1: 6467.2927628777215\n",
      "total V25: 240407\n",
      "Class_1 at V25%: 2.6901432832145993\n"
     ]
    }
   ],
   "source": [
    "FR=df[df.Class==0][\"V25\"]\n",
    "print(\"total class_1:\",sum(FR))\n",
    "print(\"total V25:\",len(FR))\n",
    "print(\"Class_1 at V25%:\",sum(FR)/len(FR) * 100)"
   ]
  },
  {
   "cell_type": "code",
   "execution_count": 169,
   "id": "8185a211",
   "metadata": {},
   "outputs": [
    {
     "name": "stdout",
     "output_type": "stream",
     "text": [
      "total class_1: 12.72195443098591\n",
      "total V25: 100\n",
      "Class_1 at V25%: 12.72195443098591\n"
     ]
    }
   ],
   "source": [
    "FR=dd[dd.Class==0][\"V25\"]\n",
    "print(\"total class_1:\",sum(FR))\n",
    "print(\"total V25:\",len(FR))\n",
    "print(\"Class_1 at V25%:\",sum(FR)/len(FR) * 100)"
   ]
  },
  {
   "cell_type": "code",
   "execution_count": 170,
   "id": "2588b8e8",
   "metadata": {},
   "outputs": [
    {
     "name": "stdout",
     "output_type": "stream",
     "text": [
      "total class_1: -6.193494093247849\n",
      "total V25: 100\n",
      "Class_1 at V25%: -6.193494093247849\n"
     ]
    }
   ],
   "source": [
    "FR=dd[dd.Class==0][\"V13\"]\n",
    "print(\"total class_1:\",sum(FR))\n",
    "print(\"total V25:\",len(FR))\n",
    "print(\"Class_1 at V25%:\",sum(FR)/len(FR) * 100)"
   ]
  },
  {
   "cell_type": "code",
   "execution_count": 171,
   "id": "5aa29849",
   "metadata": {},
   "outputs": [
    {
     "name": "stdout",
     "output_type": "stream",
     "text": [
      "total class_1: 21.358819364081082\n",
      "total V25: 421\n",
      "Class_1 at V25%: 5.07335376819028\n"
     ]
    }
   ],
   "source": [
    "FR=df[df.Class==1][\"V25\"]\n",
    "print(\"total class_1:\",sum(FR))\n",
    "print(\"total V25:\",len(FR))\n",
    "print(\"Class_1 at V25%:\",sum(FR)/len(FR) * 100)"
   ]
  },
  {
   "cell_type": "code",
   "execution_count": 172,
   "id": "ff64ce8c",
   "metadata": {},
   "outputs": [
    {
     "name": "stdout",
     "output_type": "stream",
     "text": [
      "total class_1: 39.897152066550504\n",
      "total V22: 421\n",
      "Class_1 at V22%: 9.476758210582068\n"
     ]
    }
   ],
   "source": [
    "FR=df[df.Class==1][\"V22\"]\n",
    "print(\"total class_1:\",sum(FR))\n",
    "print(\"total V22:\",len(FR))\n",
    "print(\"Class_1 at V22%:\",sum(FR)/len(FR) * 100)"
   ]
  },
  {
   "cell_type": "code",
   "execution_count": 173,
   "id": "c8db8420",
   "metadata": {},
   "outputs": [
    {
     "data": {
      "text/plain": [
       "541      -0.035049\n",
       "623       0.435477\n",
       "4920     -0.932391\n",
       "6108      0.176968\n",
       "6329     -0.704181\n",
       "            ...   \n",
       "239499    0.561496\n",
       "239501    1.187013\n",
       "240222   -0.176244\n",
       "241254    0.922038\n",
       "241445    0.761712\n",
       "Name: V22, Length: 421, dtype: float64"
      ]
     },
     "execution_count": 173,
     "metadata": {},
     "output_type": "execute_result"
    }
   ],
   "source": [
    "FR"
   ]
  },
  {
   "cell_type": "code",
   "execution_count": null,
   "id": "87e916d4",
   "metadata": {},
   "outputs": [],
   "source": []
  },
  {
   "cell_type": "code",
   "execution_count": 174,
   "id": "2ea9c1cc",
   "metadata": {},
   "outputs": [
    {
     "data": {
      "text/html": [
       "<div>\n",
       "<style scoped>\n",
       "    .dataframe tbody tr th:only-of-type {\n",
       "        vertical-align: middle;\n",
       "    }\n",
       "\n",
       "    .dataframe tbody tr th {\n",
       "        vertical-align: top;\n",
       "    }\n",
       "\n",
       "    .dataframe thead th {\n",
       "        text-align: right;\n",
       "    }\n",
       "</style>\n",
       "<table border=\"1\" class=\"dataframe\">\n",
       "  <thead>\n",
       "    <tr style=\"text-align: right;\">\n",
       "      <th></th>\n",
       "      <th>Time</th>\n",
       "      <th>V1</th>\n",
       "      <th>V2</th>\n",
       "      <th>V3</th>\n",
       "      <th>V4</th>\n",
       "      <th>V5</th>\n",
       "      <th>V6</th>\n",
       "      <th>V7</th>\n",
       "      <th>V8</th>\n",
       "      <th>V9</th>\n",
       "      <th>...</th>\n",
       "      <th>V21</th>\n",
       "      <th>V22</th>\n",
       "      <th>V23</th>\n",
       "      <th>V24</th>\n",
       "      <th>V25</th>\n",
       "      <th>V26</th>\n",
       "      <th>V27</th>\n",
       "      <th>V28</th>\n",
       "      <th>Amount</th>\n",
       "      <th>Class</th>\n",
       "    </tr>\n",
       "  </thead>\n",
       "  <tbody>\n",
       "    <tr>\n",
       "      <th>count</th>\n",
       "      <td>100.000000</td>\n",
       "      <td>100.000000</td>\n",
       "      <td>100.000000</td>\n",
       "      <td>100.000000</td>\n",
       "      <td>100.000000</td>\n",
       "      <td>100.000000</td>\n",
       "      <td>100.000000</td>\n",
       "      <td>100.000000</td>\n",
       "      <td>100.000000</td>\n",
       "      <td>100.000000</td>\n",
       "      <td>...</td>\n",
       "      <td>100.000000</td>\n",
       "      <td>100.000000</td>\n",
       "      <td>100.000000</td>\n",
       "      <td>100.000000</td>\n",
       "      <td>100.000000</td>\n",
       "      <td>100.000000</td>\n",
       "      <td>100.000000</td>\n",
       "      <td>100.000000</td>\n",
       "      <td>100.000000</td>\n",
       "      <td>100.0</td>\n",
       "    </tr>\n",
       "    <tr>\n",
       "      <th>mean</th>\n",
       "      <td>35.080000</td>\n",
       "      <td>-0.090213</td>\n",
       "      <td>0.120724</td>\n",
       "      <td>0.891882</td>\n",
       "      <td>0.453650</td>\n",
       "      <td>0.088693</td>\n",
       "      <td>0.330999</td>\n",
       "      <td>0.154907</td>\n",
       "      <td>-0.000037</td>\n",
       "      <td>-0.051498</td>\n",
       "      <td>...</td>\n",
       "      <td>-0.015139</td>\n",
       "      <td>-0.038938</td>\n",
       "      <td>0.010923</td>\n",
       "      <td>0.124233</td>\n",
       "      <td>0.127220</td>\n",
       "      <td>-0.037806</td>\n",
       "      <td>0.019086</td>\n",
       "      <td>0.005589</td>\n",
       "      <td>64.936700</td>\n",
       "      <td>0.0</td>\n",
       "    </tr>\n",
       "    <tr>\n",
       "      <th>std</th>\n",
       "      <td>18.799678</td>\n",
       "      <td>1.321685</td>\n",
       "      <td>1.110242</td>\n",
       "      <td>0.887369</td>\n",
       "      <td>1.281962</td>\n",
       "      <td>1.312409</td>\n",
       "      <td>1.339124</td>\n",
       "      <td>0.814199</td>\n",
       "      <td>0.678670</td>\n",
       "      <td>0.794436</td>\n",
       "      <td>...</td>\n",
       "      <td>0.399621</td>\n",
       "      <td>0.512515</td>\n",
       "      <td>0.399688</td>\n",
       "      <td>0.554173</td>\n",
       "      <td>0.408333</td>\n",
       "      <td>0.503405</td>\n",
       "      <td>0.296148</td>\n",
       "      <td>0.253085</td>\n",
       "      <td>184.519068</td>\n",
       "      <td>0.0</td>\n",
       "    </tr>\n",
       "    <tr>\n",
       "      <th>min</th>\n",
       "      <td>0.000000</td>\n",
       "      <td>-5.401258</td>\n",
       "      <td>-5.450148</td>\n",
       "      <td>-1.192094</td>\n",
       "      <td>-4.515824</td>\n",
       "      <td>-6.631951</td>\n",
       "      <td>-1.763406</td>\n",
       "      <td>-2.705393</td>\n",
       "      <td>-3.807864</td>\n",
       "      <td>-2.094011</td>\n",
       "      <td>...</td>\n",
       "      <td>-0.852309</td>\n",
       "      <td>-1.299920</td>\n",
       "      <td>-1.134769</td>\n",
       "      <td>-1.384620</td>\n",
       "      <td>-1.112725</td>\n",
       "      <td>-1.243924</td>\n",
       "      <td>-1.206921</td>\n",
       "      <td>-1.105751</td>\n",
       "      <td>0.750000</td>\n",
       "      <td>0.0</td>\n",
       "    </tr>\n",
       "    <tr>\n",
       "      <th>25%</th>\n",
       "      <td>22.000000</td>\n",
       "      <td>-0.859570</td>\n",
       "      <td>-0.079349</td>\n",
       "      <td>0.283232</td>\n",
       "      <td>-0.225658</td>\n",
       "      <td>-0.463912</td>\n",
       "      <td>-0.400678</td>\n",
       "      <td>-0.155342</td>\n",
       "      <td>-0.180018</td>\n",
       "      <td>-0.418537</td>\n",
       "      <td>...</td>\n",
       "      <td>-0.194649</td>\n",
       "      <td>-0.344902</td>\n",
       "      <td>-0.151391</td>\n",
       "      <td>-0.077528</td>\n",
       "      <td>-0.086444</td>\n",
       "      <td>-0.330747</td>\n",
       "      <td>-0.034984</td>\n",
       "      <td>-0.006709</td>\n",
       "      <td>6.637500</td>\n",
       "      <td>0.0</td>\n",
       "    </tr>\n",
       "    <tr>\n",
       "      <th>50%</th>\n",
       "      <td>36.000000</td>\n",
       "      <td>-0.270451</td>\n",
       "      <td>0.242621</td>\n",
       "      <td>0.853925</td>\n",
       "      <td>0.573206</td>\n",
       "      <td>-0.036282</td>\n",
       "      <td>0.000412</td>\n",
       "      <td>0.143897</td>\n",
       "      <td>0.077027</td>\n",
       "      <td>-0.052865</td>\n",
       "      <td>...</td>\n",
       "      <td>-0.062472</td>\n",
       "      <td>-0.018363</td>\n",
       "      <td>-0.048353</td>\n",
       "      <td>0.117212</td>\n",
       "      <td>0.150302</td>\n",
       "      <td>-0.164106</td>\n",
       "      <td>0.026799</td>\n",
       "      <td>0.020894</td>\n",
       "      <td>20.035000</td>\n",
       "      <td>0.0</td>\n",
       "    </tr>\n",
       "    <tr>\n",
       "      <th>75%</th>\n",
       "      <td>49.000000</td>\n",
       "      <td>1.111662</td>\n",
       "      <td>0.579927</td>\n",
       "      <td>1.406882</td>\n",
       "      <td>1.253353</td>\n",
       "      <td>0.417466</td>\n",
       "      <td>0.352283</td>\n",
       "      <td>0.547759</td>\n",
       "      <td>0.261569</td>\n",
       "      <td>0.246615</td>\n",
       "      <td>...</td>\n",
       "      <td>0.027214</td>\n",
       "      <td>0.235959</td>\n",
       "      <td>0.073327</td>\n",
       "      <td>0.421665</td>\n",
       "      <td>0.395186</td>\n",
       "      <td>0.153526</td>\n",
       "      <td>0.100422</td>\n",
       "      <td>0.099957</td>\n",
       "      <td>42.837500</td>\n",
       "      <td>0.0</td>\n",
       "    </tr>\n",
       "    <tr>\n",
       "      <th>max</th>\n",
       "      <td>68.000000</td>\n",
       "      <td>1.492936</td>\n",
       "      <td>2.600138</td>\n",
       "      <td>3.402585</td>\n",
       "      <td>3.710061</td>\n",
       "      <td>3.281972</td>\n",
       "      <td>5.122103</td>\n",
       "      <td>4.371691</td>\n",
       "      <td>1.530817</td>\n",
       "      <td>4.009259</td>\n",
       "      <td>...</td>\n",
       "      <td>1.943465</td>\n",
       "      <td>1.353650</td>\n",
       "      <td>2.458589</td>\n",
       "      <td>1.112970</td>\n",
       "      <td>0.883548</td>\n",
       "      <td>3.065576</td>\n",
       "      <td>0.857373</td>\n",
       "      <td>0.949594</td>\n",
       "      <td>1402.950000</td>\n",
       "      <td>0.0</td>\n",
       "    </tr>\n",
       "  </tbody>\n",
       "</table>\n",
       "<p>8 rows × 31 columns</p>\n",
       "</div>"
      ],
      "text/plain": [
       "             Time          V1          V2          V3          V4          V5  \\\n",
       "count  100.000000  100.000000  100.000000  100.000000  100.000000  100.000000   \n",
       "mean    35.080000   -0.090213    0.120724    0.891882    0.453650    0.088693   \n",
       "std     18.799678    1.321685    1.110242    0.887369    1.281962    1.312409   \n",
       "min      0.000000   -5.401258   -5.450148   -1.192094   -4.515824   -6.631951   \n",
       "25%     22.000000   -0.859570   -0.079349    0.283232   -0.225658   -0.463912   \n",
       "50%     36.000000   -0.270451    0.242621    0.853925    0.573206   -0.036282   \n",
       "75%     49.000000    1.111662    0.579927    1.406882    1.253353    0.417466   \n",
       "max     68.000000    1.492936    2.600138    3.402585    3.710061    3.281972   \n",
       "\n",
       "               V6          V7          V8          V9  ...         V21  \\\n",
       "count  100.000000  100.000000  100.000000  100.000000  ...  100.000000   \n",
       "mean     0.330999    0.154907   -0.000037   -0.051498  ...   -0.015139   \n",
       "std      1.339124    0.814199    0.678670    0.794436  ...    0.399621   \n",
       "min     -1.763406   -2.705393   -3.807864   -2.094011  ...   -0.852309   \n",
       "25%     -0.400678   -0.155342   -0.180018   -0.418537  ...   -0.194649   \n",
       "50%      0.000412    0.143897    0.077027   -0.052865  ...   -0.062472   \n",
       "75%      0.352283    0.547759    0.261569    0.246615  ...    0.027214   \n",
       "max      5.122103    4.371691    1.530817    4.009259  ...    1.943465   \n",
       "\n",
       "              V22         V23         V24         V25         V26         V27  \\\n",
       "count  100.000000  100.000000  100.000000  100.000000  100.000000  100.000000   \n",
       "mean    -0.038938    0.010923    0.124233    0.127220   -0.037806    0.019086   \n",
       "std      0.512515    0.399688    0.554173    0.408333    0.503405    0.296148   \n",
       "min     -1.299920   -1.134769   -1.384620   -1.112725   -1.243924   -1.206921   \n",
       "25%     -0.344902   -0.151391   -0.077528   -0.086444   -0.330747   -0.034984   \n",
       "50%     -0.018363   -0.048353    0.117212    0.150302   -0.164106    0.026799   \n",
       "75%      0.235959    0.073327    0.421665    0.395186    0.153526    0.100422   \n",
       "max      1.353650    2.458589    1.112970    0.883548    3.065576    0.857373   \n",
       "\n",
       "              V28       Amount  Class  \n",
       "count  100.000000   100.000000  100.0  \n",
       "mean     0.005589    64.936700    0.0  \n",
       "std      0.253085   184.519068    0.0  \n",
       "min     -1.105751     0.750000    0.0  \n",
       "25%     -0.006709     6.637500    0.0  \n",
       "50%      0.020894    20.035000    0.0  \n",
       "75%      0.099957    42.837500    0.0  \n",
       "max      0.949594  1402.950000    0.0  \n",
       "\n",
       "[8 rows x 31 columns]"
      ]
     },
     "execution_count": 174,
     "metadata": {},
     "output_type": "execute_result"
    }
   ],
   "source": [
    "dd.describe()"
   ]
  },
  {
   "cell_type": "code",
   "execution_count": null,
   "id": "c017a7e8",
   "metadata": {},
   "outputs": [],
   "source": []
  },
  {
   "cell_type": "code",
   "execution_count": 175,
   "id": "1c504190",
   "metadata": {},
   "outputs": [
    {
     "data": {
      "text/plain": [
       "<AxesSubplot:>"
      ]
     },
     "execution_count": 175,
     "metadata": {},
     "output_type": "execute_result"
    },
    {
     "data": {
      "image/png": "[encoded data removed]",
      "text/plain": [
       "<Figure size 432x288 with 2 Axes>"
      ]
     },
     "metadata": {
      "needs_background": "light"
     },
     "output_type": "display_data"
    }
   ],
   "source": [
    "sns.heatmap(df.corr())"
   ]
  },
  {
   "cell_type": "code",
   "execution_count": 176,
   "id": "c2fa2edd",
   "metadata": {},
   "outputs": [
    {
     "data": {
      "text/plain": [
       "<AxesSubplot:>"
      ]
     },
     "execution_count": 176,
     "metadata": {},
     "output_type": "execute_result"
    },
    {
     "data": {
      "image/png": "[encoded data removed]",
      "text/plain": [
       "<Figure size 432x288 with 2 Axes>"
      ]
     },
     "metadata": {
      "needs_background": "light"
     },
     "output_type": "display_data"
    }
   ],
   "source": [
    "sns.heatmap(dd.corr())"
   ]
  },
  {
   "cell_type": "code",
   "execution_count": 177,
   "id": "3263a960",
   "metadata": {},
   "outputs": [
    {
     "data": {
      "text/plain": [
       "<seaborn.axisgrid.FacetGrid at 0x1c99af38040>"
      ]
     },
     "execution_count": 177,
     "metadata": {},
     "output_type": "execute_result"
    },
    {
     "data": {
      "image/png": "[encoded data removed]",
      "text/plain": [
       "<Figure size 412x360 with 1 Axes>"
      ]
     },
     "metadata": {
      "needs_background": "light"
     },
     "output_type": "display_data"
    }
   ],
   "source": [
    "sns.relplot(x=\"Time\",y=\"Amount\",hue=\"Class\",data=dd)"
   ]
  },
  {
   "cell_type": "code",
   "execution_count": 178,
   "id": "dd348adb",
   "metadata": {},
   "outputs": [
    {
     "data": {
      "text/plain": [
       "<seaborn.axisgrid.FacetGrid at 0x1c99af143d0>"
      ]
     },
     "execution_count": 178,
     "metadata": {},
     "output_type": "execute_result"
    },
    {
     "data": {
      "image/png": "[encoded data removed]",
      "text/plain": [
       "<Figure size 360x360 with 1 Axes>"
      ]
     },
     "metadata": {
      "needs_background": "light"
     },
     "output_type": "display_data"
    }
   ],
   "source": [
    "sns.relplot(x=\"Time\",y=df['Class']==1,data=df)"
   ]
  },
  {
   "cell_type": "code",
   "execution_count": 179,
   "id": "335f69c9",
   "metadata": {},
   "outputs": [
    {
     "data": {
      "text/plain": [
       "421"
      ]
     },
     "execution_count": 179,
     "metadata": {},
     "output_type": "execute_result"
    }
   ],
   "source": [
    "(df['Class']==1).sum()"
   ]
  },
  {
   "cell_type": "code",
   "execution_count": 180,
   "id": "1f175fd2",
   "metadata": {},
   "outputs": [
    {
     "name": "stdout",
     "output_type": "stream",
     "text": [
      "AxesSubplot(0.125,0.125;0.775x0.755)\n"
     ]
    },
    {
     "data": {
      "image/png": "[encoded data removed]",
      "text/plain": [
       "<Figure size 720x720 with 1 Axes>"
      ]
     },
     "metadata": {
      "needs_background": "light"
     },
     "output_type": "display_data"
    }
   ],
   "source": [
    "r=dd.groupby(\"Amount\")[[\"V1\",\"V2\",\"V3\"]].mean().T.plot(kind=\"bar\",figsize=(10,10))\n",
    "print(r)"
   ]
  },
  {
   "cell_type": "code",
   "execution_count": 181,
   "id": "8b52549a",
   "metadata": {},
   "outputs": [
    {
     "name": "stdout",
     "output_type": "stream",
     "text": [
      "AxesSubplot(0.125,0.125;0.775x0.755)\n"
     ]
    },
    {
     "data": {
      "image/png": "[encoded data removed]",
      "text/plain": [
       "<Figure size 720x720 with 1 Axes>"
      ]
     },
     "metadata": {
      "needs_background": "light"
     },
     "output_type": "display_data"
    }
   ],
   "source": [
    "r=dd.groupby(\"Time\")[[\"V1\",\"V2\",\"V3\"]].mean().T.plot(kind=\"bar\",figsize=(10,10))\n",
    "print(r)"
   ]
  },
  {
   "cell_type": "code",
   "execution_count": 182,
   "id": "2c201f17",
   "metadata": {},
   "outputs": [
    {
     "name": "stdout",
     "output_type": "stream",
     "text": [
      "AxesSubplot(0.125,0.125;0.775x0.755)\n"
     ]
    },
    {
     "data": {
      "image/png": "[encoded data removed]",
      "text/plain": [
       "<Figure size 720x720 with 1 Axes>"
      ]
     },
     "metadata": {
      "needs_background": "light"
     },
     "output_type": "display_data"
    }
   ],
   "source": [
    "r=dd.groupby(\"Class\")[[\"V1\",\"V2\",\"V3\"]].mean().T.plot(kind=\"bar\",figsize=(10,10))\n",
    "print(r)"
   ]
  },
  {
   "cell_type": "code",
   "execution_count": 183,
   "id": "5506b0a5",
   "metadata": {},
   "outputs": [
    {
     "data": {
      "text/plain": [
       "<AxesSubplot:xlabel='Amount'>"
      ]
     },
     "execution_count": 183,
     "metadata": {},
     "output_type": "execute_result"
    },
    {
     "data": {
      "image/png": "[encoded data removed]",
      "text/plain": [
       "<Figure size 432x288 with 1 Axes>"
      ]
     },
     "metadata": {
      "needs_background": "light"
     },
     "output_type": "display_data"
    }
   ],
   "source": [
    "sns.boxplot(x=\"Amount\",data=dd)"
   ]
  },
  {
   "cell_type": "code",
   "execution_count": 184,
   "id": "ac50373f",
   "metadata": {},
   "outputs": [
    {
     "data": {
      "text/plain": [
       "<AxesSubplot:xlabel='Time'>"
      ]
     },
     "execution_count": 184,
     "metadata": {},
     "output_type": "execute_result"
    },
    {
     "data": {
      "image/png": "[encoded data removed]",
      "text/plain": [
       "<Figure size 432x288 with 1 Axes>"
      ]
     },
     "metadata": {
      "needs_background": "light"
     },
     "output_type": "display_data"
    }
   ],
   "source": [
    "sns.boxplot(x=\"Time\",data=dd)"
   ]
  },
  {
   "cell_type": "code",
   "execution_count": 185,
   "id": "95ce3dcb",
   "metadata": {},
   "outputs": [
    {
     "data": {
      "text/plain": [
       "<AxesSubplot:xlabel='Class'>"
      ]
     },
     "execution_count": 185,
     "metadata": {},
     "output_type": "execute_result"
    },
    {
     "data": {
      "image/png": "[encoded data removed]",
      "text/plain": [
       "<Figure size 432x288 with 1 Axes>"
      ]
     },
     "metadata": {
      "needs_background": "light"
     },
     "output_type": "display_data"
    }
   ],
   "source": [
    "sns.boxplot(x=\"Class\",data=df)"
   ]
  },
  {
   "cell_type": "code",
   "execution_count": 186,
   "id": "f1e521f7",
   "metadata": {},
   "outputs": [
    {
     "data": {
      "text/plain": [
       "<AxesSubplot:xlabel='V4'>"
      ]
     },
     "execution_count": 186,
     "metadata": {},
     "output_type": "execute_result"
    },
    {
     "data": {
      "image/png": "[encoded data removed]",
      "text/plain": [
       "<Figure size 432x288 with 1 Axes>"
      ]
     },
     "metadata": {
      "needs_background": "light"
     },
     "output_type": "display_data"
    }
   ],
   "source": [
    "sns.boxplot(x=\"V4\",data=dd)"
   ]
  },
  {
   "cell_type": "code",
   "execution_count": 187,
   "id": "bf62a369",
   "metadata": {},
   "outputs": [
    {
     "data": {
      "text/plain": [
       "<AxesSubplot:xlabel='V5'>"
      ]
     },
     "execution_count": 187,
     "metadata": {},
     "output_type": "execute_result"
    },
    {
     "data": {
      "image/png": "[encoded data removed]",
      "text/plain": [
       "<Figure size 432x288 with 1 Axes>"
      ]
     },
     "metadata": {
      "needs_background": "light"
     },
     "output_type": "display_data"
    }
   ],
   "source": [
    "sns.boxplot(x=\"V5\",data=dd)"
   ]
  },
  {
   "cell_type": "code",
   "execution_count": 188,
   "id": "d5400c8b",
   "metadata": {},
   "outputs": [
    {
     "data": {
      "text/plain": [
       "<AxesSubplot:xlabel='V10'>"
      ]
     },
     "execution_count": 188,
     "metadata": {},
     "output_type": "execute_result"
    },
    {
     "data": {
      "image/png": "[encoded data removed]",
      "text/plain": [
       "<Figure size 432x288 with 1 Axes>"
      ]
     },
     "metadata": {
      "needs_background": "light"
     },
     "output_type": "display_data"
    }
   ],
   "source": [
    "sns.boxplot(x=\"V10\",data=dd)"
   ]
  },
  {
   "cell_type": "code",
   "execution_count": 189,
   "id": "2d009deb",
   "metadata": {},
   "outputs": [
    {
     "data": {
      "text/plain": [
       "<AxesSubplot:xlabel='V15'>"
      ]
     },
     "execution_count": 189,
     "metadata": {},
     "output_type": "execute_result"
    },
    {
     "data": {
      "image/png": "[encoded data removed]",
      "text/plain": [
       "<Figure size 432x288 with 1 Axes>"
      ]
     },
     "metadata": {
      "needs_background": "light"
     },
     "output_type": "display_data"
    }
   ],
   "source": [
    "sns.boxplot(x=\"V15\",data=dd)"
   ]
  },
  {
   "cell_type": "code",
   "execution_count": 190,
   "id": "e5171144",
   "metadata": {},
   "outputs": [
    {
     "data": {
      "text/plain": [
       "<AxesSubplot:xlabel='V20'>"
      ]
     },
     "execution_count": 190,
     "metadata": {},
     "output_type": "execute_result"
    },
    {
     "data": {
      "image/png": "[encoded data removed]",
      "text/plain": [
       "<Figure size 432x288 with 1 Axes>"
      ]
     },
     "metadata": {
      "needs_background": "light"
     },
     "output_type": "display_data"
    }
   ],
   "source": [
    "sns.boxplot(x=\"V20\",data=dd)"
   ]
  },
  {
   "cell_type": "code",
   "execution_count": 191,
   "id": "d0999713",
   "metadata": {},
   "outputs": [
    {
     "data": {
      "text/plain": [
       "<AxesSubplot:xlabel='V28'>"
      ]
     },
     "execution_count": 191,
     "metadata": {},
     "output_type": "execute_result"
    },
    {
     "data": {
      "image/png": "[encoded data removed]",
      "text/plain": [
       "<Figure size 432x288 with 1 Axes>"
      ]
     },
     "metadata": {
      "needs_background": "light"
     },
     "output_type": "display_data"
    }
   ],
   "source": [
    "sns.boxplot(x=\"V28\",data=dd)"
   ]
  }
 ],
 "metadata": {
  "kernelspec": {
   "display_name": "Python 3",
   "language": "python",
   "name": "python3"
  },
  "language_info": {
   "codemirror_mode": {
    "name": "ipython",
    "version": 3
   },
   "file_extension": ".py",
   "mimetype": "text/x-python",
   "name": "python",
   "nbconvert_exporter": "python",
   "pygments_lexer": "ipython3",
   "version": "3.8.8"
  }
 },
 "nbformat": 4,
 "nbformat_minor": 5
}
