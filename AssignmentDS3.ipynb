{
 "cells": [
  {
   "cell_type": "code",
   "execution_count": null,
   "id": "95df97cf",
   "metadata": {},
   "outputs": [],
   "source": [
    "#Task 3\n",
    "#Assignment 3\n",
    "#Name:Gauri Kolte\n",
    "#Referal code: DIRSS3134"
   ]
  },
  {
   "cell_type": "code",
   "execution_count": 1,
   "id": "32a641ef",
   "metadata": {},
   "outputs": [
    {
     "name": "stdout",
     "output_type": "stream",
     "text": [
      "Words in text: 25\n",
      "Lines in the txt 10\n",
      "Characters in text: 151\n"
     ]
    }
   ],
   "source": [
    "#Question 1 Write short introduction in a text file.Your Intro Consis of Name,Id,Contact number,\n",
    "#Address,stream,joining_date,qualification,Hobbies,strength and weakness \n",
    "#Calculate Lines, Word,Characters\n",
    "\n",
    "a=open(\"DatasciPrac1.txt\",'r')\n",
    "b=a.read()\n",
    "a.close()\n",
    "\n",
    "b\n",
    "z=b.split()\n",
    "m=len(z)\n",
    "print(\"Words in text:\",m)\n",
    "l=0\n",
    "with open(\"DatasciPrac1.txt\",'r') as f:\n",
    "    for line in f:\n",
    "        l+=1\n",
    "print(\"Lines in the txt\",l) \n",
    "num=[]\n",
    "for b in range(25):\n",
    "    #print(list(z[b]))\n",
    "    #print(b)\n",
    "    e=len(z[b])\n",
    "#     list(map(e:e+lenz[b]))\n",
    "    num.append(e)\n",
    "k=sum(num)\n",
    "print(\"Characters in text:\",k)"
   ]
  },
  {
   "cell_type": "code",
   "execution_count": 2,
   "id": "0a2e946f",
   "metadata": {},
   "outputs": [
    {
     "name": "stdout",
     "output_type": "stream",
     "text": [
      "It couldn't Write\n",
      "Not written\n"
     ]
    }
   ],
   "source": [
    "#Question 2:Creat a file in read only mode.open this file using python and try to write your \n",
    "#contact number in the file.As this file is write protected so an exception should occur.Handle this\n",
    "#exception using python script with user-defined exception.\n",
    "try:    \n",
    "    a=open(\"ContactDSA3.txt\",'r')\n",
    "    try:\n",
    "        a.write(\"Contact_No:9866054\")\n",
    "    except:\n",
    "        print(\"It couldn't Write\")\n",
    "        raise NameError\n",
    "    \n",
    "\n",
    "    finally:\n",
    "        a.close()\n",
    "except NameError:\n",
    "    print(\"Not written\")"
   ]
  },
  {
   "cell_type": "code",
   "execution_count": 3,
   "id": "fb5912c6",
   "metadata": {},
   "outputs": [
    {
     "name": "stdout",
     "output_type": "stream",
     "text": [
      "Enter the N kms per Day90\n",
      "Enter hoe distance cover(M kms)50000\n",
      "Number of days to travel Distance 555.5555555555555\n"
     ]
    }
   ],
   "source": [
    "#Question 3:A truck runs a distance of N kms per day. write a program to calculate how many days will \n",
    "# be taken to cover M kms.\n",
    "a=int(input(\"Enter the N kms per Day\"))\n",
    "b=int(input(\"Enter hoe distance cover(M kms)\"))\n",
    "print(\"Number of days to travel Distance\",b/a)"
   ]
  },
  {
   "cell_type": "code",
   "execution_count": 5,
   "id": "037ad4e6",
   "metadata": {},
   "outputs": [
    {
     "name": "stdout",
     "output_type": "stream",
     "text": [
      "0\n",
      "It is not divisible by 0\n"
     ]
    }
   ],
   "source": [
    "#Question 4: Cretae fuunction that perform division of number. Since divide by zero gives an infinite\n",
    "# so if a number which is denominator and 0 must given an exception while performing divisin operation\n",
    "#Handel by exception handling method.\n",
    "try:\n",
    "    n=int(input())\n",
    "    3/n\n",
    "    print(\"Division Done\")\n",
    "   \n",
    "    \n",
    "except ZeroDivisionError:\n",
    "        print(\"It is not divisible by 0\") "
   ]
  }
 ],
 "metadata": {
  "kernelspec": {
   "display_name": "Python 3",
   "language": "python",
   "name": "python3"
  },
  "language_info": {
   "codemirror_mode": {
    "name": "ipython",
    "version": 3
   },
   "file_extension": ".py",
   "mimetype": "text/x-python",
   "name": "python",
   "nbconvert_exporter": "python",
   "pygments_lexer": "ipython3",
   "version": "3.8.8"
  }
 },
 "nbformat": 4,
 "nbformat_minor": 5
}
