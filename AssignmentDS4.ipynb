{
 "cells": [
  {
   "cell_type": "code",
   "execution_count": null,
   "id": "28fa5e84",
   "metadata": {},
   "outputs": [],
   "source": [
    "#TASK 4:Assignment 4\n",
    "#Referal code: DIRSS3134\n",
    "#Name-Gauri Kolte"
   ]
  },
  {
   "cell_type": "code",
   "execution_count": 1,
   "id": "15142147",
   "metadata": {},
   "outputs": [
    {
     "name": "stdout",
     "output_type": "stream",
     "text": [
      "Enter a Number:15\n",
      "Number is odd\n"
     ]
    }
   ],
   "source": [
    "#python assignment\n",
    "#Question 1: Take any value from the user, print odd if value entered is odd and print even otherwise\n",
    "x=int(input(\"Enter a Number:\"))\n",
    "if(x%2==0):\n",
    "    print(\"Number is Even\")\n",
    "else:\n",
    "    print(\"Number is odd\")"
   ]
  },
  {
   "cell_type": "code",
   "execution_count": 2,
   "id": "c9465c37",
   "metadata": {},
   "outputs": [
    {
     "name": "stdout",
     "output_type": "stream",
     "text": [
      "Enter 1 Numbers:12\n",
      "Enter 2 num:25\n",
      "Enter 3 num:54\n",
      "Enter 4 num:78\n",
      "Enter a number, sum is: 66+i103\n"
     ]
    }
   ],
   "source": [
    "#Question 2: Take input from the userand check if the number is a complex number a complex number is\n",
    "#the sum of the real number and an imaginary number\n",
    "x=int(input(\"Enter 1 Numbers:\"))\n",
    "y=int(input(\"Enter 2 num:\"))\n",
    "a=int(input(\"Enter 3 num:\"))\n",
    "b=int(input(\"Enter 4 num:\"))\n",
    "d=x+a\n",
    "z=y+b\n",
    "print(f\"Enter a number, sum is: {d}+i{z}\")"
   ]
  },
  {
   "cell_type": "code",
   "execution_count": 3,
   "id": "5c883065",
   "metadata": {},
   "outputs": [
    {
     "name": "stdout",
     "output_type": "stream",
     "text": [
      "Enter is number87\n",
      "B\n"
     ]
    }
   ],
   "source": [
    "#Question 3:Create a program to enter marks from the user out of 100 and display grades.\n",
    "x=int(input(\"Enter is number\"))\n",
    "if(x>90):\n",
    "    print(\"A\")\n",
    "elif(x>75):\n",
    "    print(\"B\")\n",
    "elif(x>60):\n",
    "    print(\"C\")\n",
    "elif(x>45):\n",
    "    print(\"D\")\n",
    "elif(x>33):\n",
    "    print(\"E\")\n",
    "else:\n",
    "    print(\"F\")"
   ]
  },
  {
   "cell_type": "code",
   "execution_count": 4,
   "id": "4cd90f7f",
   "metadata": {},
   "outputs": [
    {
     "name": "stdout",
     "output_type": "stream",
     "text": [
      "Enter 1 st num:12\n",
      "Enter 2 nd num:12\n",
      "Enter 3 rd num:54\n",
      "2\n"
     ]
    }
   ],
   "source": [
    "#4Question 4: Say three interger have been given.Determine how many of them are equal to \n",
    "#each other.Create a program to print3(if all 3 are same),2(if two are same),and \n",
    "#0(if all numbers are diffrent)\n",
    "a=int(input(\"Enter 1 st num:\"))\n",
    "b=int(input(\"Enter 2 nd num:\"))\n",
    "c=int(input(\"Enter 3 rd num:\"))\n",
    "if (a==b==c):\n",
    "    print(3)\n",
    "elif(a==b or b==c or a==c):\n",
    "    print(2)\n",
    "else:\n",
    "    print(0)"
   ]
  },
  {
   "cell_type": "code",
   "execution_count": 5,
   "id": "811116ba",
   "metadata": {},
   "outputs": [
    {
     "name": "stdout",
     "output_type": "stream",
     "text": [
      "Enter the N kms per Day54\n",
      "Enter hoe distance cover(M kms)654\n",
      "Number of days to travel Distance 12.11111111111111\n"
     ]
    }
   ],
   "source": [
    "#Question 5:A truck runs a distance of N kms per day. write a program to calculate how many days will \n",
    "# be taken to cover M kms.\n",
    "a=int(input(\"Enter the N kms per Day\"))\n",
    "b=int(input(\"Enter hoe distance cover(M kms)\"))\n",
    "print(\"Number of days to travel Distance\",b/a)"
   ]
  },
  {
   "cell_type": "code",
   "execution_count": 6,
   "id": "3b7a5c0b",
   "metadata": {},
   "outputs": [
    {
     "name": "stdout",
     "output_type": "stream",
     "text": [
      "Enter Name:gouri\n",
      "Enter surname:kolte\n",
      "Enter Phone_no:12345\n",
      "Enter Hobbiesdance\n",
      "gourikolte12345dance"
     ]
    }
   ],
   "source": [
    "#Question 6: Pass your name,surname,phone_no,hobbiesnin apython script and get all passed \n",
    "#values in a line without space. \n",
    "Name=str(input(\"Enter Name:\"))\n",
    "Surname=str(input(\"Enter surname:\"))\n",
    "phone_no=int(input(\"Enter Phone_no:\"))\n",
    "hobbie=str(input(\"Enter Hobbies\"))\n",
    "print(Name,end='')\n",
    "print(Surname,end='')\n",
    "print(phone_no,end='')\n",
    "print(hobbie,end='')"
   ]
  },
  {
   "cell_type": "code",
   "execution_count": 7,
   "id": "b76cb6f7",
   "metadata": {},
   "outputs": [
    {
     "name": "stdout",
     "output_type": "stream",
     "text": [
      "3 4 6\n",
      "uri\n",
      "lte\n",
      "GauriKolte\n"
     ]
    }
   ],
   "source": [
    "# 7.Write apython script to \n",
    "#i> separate 2,3,6 chars from your id\n",
    "Id='123455698'\n",
    "print(Id[2],Id[3],Id[6])\n",
    "#ii>To print characters 2 to 5 in your name and surname\n",
    "Name=\"Gauri\"\n",
    "Surname=\"Kolte\"\n",
    "print(Name[2:5])\n",
    "print(Surname[2:5])\n",
    "#iii>print all the characters of your name and surname\n",
    "print(Name + \"\"+Surname)"
   ]
  },
  {
   "cell_type": "code",
   "execution_count": 8,
   "id": "8af55a6f",
   "metadata": {},
   "outputs": [
    {
     "name": "stdout",
     "output_type": "stream",
     "text": [
      "Words in text: 25\n",
      "Lines in the txt 10\n",
      "Characters in text: 151\n"
     ]
    }
   ],
   "source": [
    "#Question 8: Write short introduction in a text file.Your Intro Consis of Name,Id,Contact number,\n",
    "#Address,stream,joining_date,qualification,Hobbies,strength and weakness \n",
    "#Calculate Lines, Word,Characters\n",
    "\n",
    "a=open(\"DatasciPrac1.txt\",'r')\n",
    "b=a.read()\n",
    "a.close()\n",
    "\n",
    "b\n",
    "z=b.split()\n",
    "m=len(z)\n",
    "print(\"Words in text:\",m)\n",
    "l=0\n",
    "with open(\"DatasciPrac1.txt\",'r') as f:\n",
    "    for line in f:\n",
    "        l+=1\n",
    "print(\"Lines in the txt\",l) \n",
    "num=[]\n",
    "for b in range(25):\n",
    "    #print(list(z[b]))\n",
    "    #print(b)\n",
    "    e=len(z[b])\n",
    "#     list(map(e:e+lenz[b]))\n",
    "    num.append(e)\n",
    "k=sum(num)\n",
    "print(\"Characters in text:\",k)"
   ]
  },
  {
   "cell_type": "code",
   "execution_count": 10,
   "id": "89ba69cd",
   "metadata": {},
   "outputs": [
    {
     "name": "stdout",
     "output_type": "stream",
     "text": [
      "0\n",
      "It is not divisible by 0\n"
     ]
    }
   ],
   "source": [
    "#Question 9: Cretae fuunction that perform division of number. Since divide by zero gives an infinite\n",
    "# so if a number which is denominator and 0 must given an exception while performing divisin operation\n",
    "#Handel by exception handling method.\n",
    "try:\n",
    "    n=int(input())\n",
    "    3/n\n",
    "    print(\"Division Done\")\n",
    "   \n",
    "    \n",
    "except ZeroDivisionError:\n",
    "        print(\"It is not divisible by 0\") "
   ]
  },
  {
   "cell_type": "code",
   "execution_count": 11,
   "id": "a2bc4b8f",
   "metadata": {},
   "outputs": [
    {
     "name": "stdout",
     "output_type": "stream",
     "text": [
      "It couldn't Write\n",
      "Not written\n"
     ]
    }
   ],
   "source": [
    "#Question 10:Creat a file in read only mode.open this file using python and try to write your \n",
    "#contact number in the file.As this file is write protected so an exception should occur.Handle this\n",
    "#exception using python script with user-defined exception.\n",
    "try:    \n",
    "    a=open(\"ContactDSA3.txt\",'r')\n",
    "    try:\n",
    "        a.write(\"Contact_No:9866054\")\n",
    "    except:\n",
    "        print(\"It couldn't Write\")\n",
    "        raise NameError\n",
    "    \n",
    "\n",
    "    finally:\n",
    "        a.close()\n",
    "except NameError:\n",
    "    print(\"Not written\")"
   ]
  },
  {
   "cell_type": "code",
   "execution_count": null,
   "id": "2c2eedad",
   "metadata": {},
   "outputs": [],
   "source": []
  }
 ],
 "metadata": {
  "kernelspec": {
   "display_name": "Python 3",
   "language": "python",
   "name": "python3"
  },
  "language_info": {
   "codemirror_mode": {
    "name": "ipython",
    "version": 3
   },
   "file_extension": ".py",
   "mimetype": "text/x-python",
   "name": "python",
   "nbconvert_exporter": "python",
   "pygments_lexer": "ipython3",
   "version": "3.8.8"
  }
 },
 "nbformat": 4,
 "nbformat_minor": 5
}
