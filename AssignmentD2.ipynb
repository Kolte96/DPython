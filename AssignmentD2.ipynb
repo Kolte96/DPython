{
 "cells": [
  {
   "cell_type": "code",
   "execution_count": null,
   "id": "33c66114",
   "metadata": {},
   "outputs": [],
   "source": [
    "#TASK2:Assignment 2\n",
    "#Referal code: DIRSS3134\n",
    "#-Gauri Kolte"
   ]
  },
  {
   "cell_type": "code",
   "execution_count": 1,
   "id": "5c5e5bee",
   "metadata": {},
   "outputs": [
    {
     "name": "stdout",
     "output_type": "stream",
     "text": [
      "<function <lambda> at 0x000001A3813F83A0> a\n"
     ]
    }
   ],
   "source": [
    "#1.Write a lambda expression to extract first word of string \n",
    "str1=\"Gauri kolte\"\n",
    "print(lambda str1:str1[1],str1[1])"
   ]
  },
  {
   "cell_type": "code",
   "execution_count": 2,
   "id": "5e57ac9d",
   "metadata": {},
   "outputs": [
    {
     "name": "stdout",
     "output_type": "stream",
     "text": [
      "['g', 'a', 'u', 't', 'o', ' ', 'y', 'h', 'u', ' ', 'h']\n",
      "['g']\n"
     ]
    }
   ],
   "source": [
    "#2Write function to extract first word of s string\n",
    "s=\"gauto yhu h\"\n",
    "s.split(' ')[0]\n",
    "print(list(s))\n",
    "print(list(s[0]))"
   ]
  },
  {
   "cell_type": "code",
   "execution_count": 3,
   "id": "f24246fb",
   "metadata": {},
   "outputs": [
    {
     "data": {
      "text/plain": [
       "[['g'], ['k'], ['f']]"
      ]
     },
     "execution_count": 3,
     "metadata": {},
     "output_type": "execute_result"
    }
   ],
   "source": [
    "#3.Extract the first word from every string from a list of strings by using map function\n",
    "def str1(s):\n",
    "    return ([s[0][0]])\n",
    "\n",
    "b=[\"gauri kolte\",\"klte\",\"fbh fjfdj \"]\n",
    "str1(b)\n",
    "list(map(str1,b))"
   ]
  },
  {
   "cell_type": "code",
   "execution_count": 4,
   "id": "b7ed2209",
   "metadata": {},
   "outputs": [
    {
     "name": "stdout",
     "output_type": "stream",
     "text": [
      "2\n",
      "2\n",
      "2\n",
      "5\n",
      "5\n",
      "None\n"
     ]
    }
   ],
   "source": [
    "#4.write a fuction to return a list of prime factors of a given number\n",
    "import math\n",
    "\n",
    "def prime(num):\n",
    "    while num %2 ==0:\n",
    "        print(2,)\n",
    "        num=num/2\n",
    "     \n",
    "    \n",
    "    for i in range(3,int(math.sqrt(num))+1,2):\n",
    "        while num%i==0:\n",
    "            print(i,)\n",
    "            num=num/i\n",
    "    if num>2:\n",
    "        print(num)\n",
    "print(prime(200))"
   ]
  },
  {
   "cell_type": "code",
   "execution_count": 5,
   "id": "7a9ef1d2",
   "metadata": {},
   "outputs": [
    {
     "name": "stdout",
     "output_type": "stream",
     "text": [
      "enter 1st num:65\n",
      "enter 2nd num:89\n",
      "enter 3rd num:70\n",
      "enter 4th num:90\n",
      "89\n"
     ]
    }
   ],
   "source": [
    "#5. write a function that finds 2nd largest among 4 nnumber(Repetions are alloewd,without sorting)\n",
    "a=int(input(\"enter 1st num:\"))\n",
    "b=int(input(\"enter 2nd num:\"))\n",
    "c=int(input(\"enter 3rd num:\"))\n",
    "d=int(input(\"enter 4th num:\"))\n",
    "if(a>d):\n",
    "    num1=a\n",
    "else:\n",
    "    num1=d\n",
    "if(b>c):\n",
    "    num2=b\n",
    "else:\n",
    "    num2=c\n",
    "    \n",
    "if(num1>num2):\n",
    "    print(num2)\n",
    "else:\n",
    "    print(num1)"
   ]
  },
  {
   "cell_type": "code",
   "execution_count": 6,
   "id": "26c138cb",
   "metadata": {},
   "outputs": [
    {
     "name": "stdout",
     "output_type": "stream",
     "text": [
      "hello i am good user welcome\n"
     ]
    }
   ],
   "source": [
    "#6 take an input from the users as string and find out all the non duplicate words from the input  \n",
    "#      \"hello  i am good user,user welcome\"\n",
    "#      -output\"hello i am good user welcome\"\n",
    "s3=\"hello  i am good user user welcome\"\n",
    "print(' '.join(dict.fromkeys(s3.split())))\n"
   ]
  },
  {
   "cell_type": "code",
   "execution_count": 7,
   "id": "bb4a5456",
   "metadata": {},
   "outputs": [
    {
     "name": "stdout",
     "output_type": "stream",
     "text": [
      "enter a string :NAMAN\n",
      "NAMAN\n",
      "String is Palindrome\n"
     ]
    }
   ],
   "source": [
    "#7.Take an input from the user and verify the data is a palindrome or not\n",
    "x=input(\"enter a string :\")\n",
    "y=x[::-1]\n",
    "x\n",
    "print(y)\n",
    "if(x==y):\n",
    "    print(\"String is Palindrome\")\n",
    "else:\n",
    "    print(\"String is not palindrome\")"
   ]
  },
  {
   "cell_type": "code",
   "execution_count": 8,
   "id": "a1c4308d",
   "metadata": {},
   "outputs": [
    {
     "name": "stdout",
     "output_type": "stream",
     "text": [
      "lcm of 15 and 20 is  60.0\n"
     ]
    }
   ],
   "source": [
    "#8.Find out LCM and HCF\n",
    "def gcd(a,b):\n",
    "    if a==0:\n",
    "        return b\n",
    "    return gcd (b%a,a)\n",
    "def lcm(a,b):\n",
    "    return (a/ gcd(a,b))*b\n",
    "\n",
    "a=15\n",
    "b=20\n",
    "print('lcm of',a,'and',b,'is ',lcm(a,b))"
   ]
  },
  {
   "cell_type": "code",
   "execution_count": null,
   "id": "ad80b589",
   "metadata": {},
   "outputs": [],
   "source": []
  }
 ],
 "metadata": {
  "kernelspec": {
   "display_name": "Python 3",
   "language": "python",
   "name": "python3"
  },
  "language_info": {
   "codemirror_mode": {
    "name": "ipython",
    "version": 3
   },
   "file_extension": ".py",
   "mimetype": "text/x-python",
   "name": "python",
   "nbconvert_exporter": "python",
   "pygments_lexer": "ipython3",
   "version": "3.8.8"
  }
 },
 "nbformat": 4,
 "nbformat_minor": 5
}
